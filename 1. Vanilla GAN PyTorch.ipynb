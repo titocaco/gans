{
 "cells": [
  {
   "cell_type": "code",
   "execution_count": 1,
   "metadata": {},
   "outputs": [],
   "source": [
    "%load_ext autoreload\n",
    "%matplotlib inline"
   ]
  },
  {
   "cell_type": "code",
   "execution_count": 2,
   "metadata": {},
   "outputs": [],
   "source": [
    "%autoreload 2\n",
    "\n",
    "from IPython import display\n",
    "\n",
    "from utils import Logger\n",
    "\n",
    "import torch\n",
    "from torch import nn, optim\n",
    "from torch.autograd.variable import Variable\n",
    "from torchvision import transforms, datasets\n",
    "\n",
    "from pytictoc import TicToc\n",
    "import datetime\n",
    "\n",
    "import numpy as np\n",
    "import matplotlib.pyplot as plt\n",
    "\n",
    "import csv"
   ]
  },
  {
   "cell_type": "code",
   "execution_count": 3,
   "metadata": {},
   "outputs": [],
   "source": [
    "%config InlineBackend.figure_format = 'svg'\n",
    "\n",
    "params = {'figure.figsize': [5, 5],\n",
    "    'axes.labelsize': 20,\n",
    "    'axes.titlesize':24,\n",
    "    'font.size': 20,\n",
    "    'legend.fontsize': 16,\n",
    "    'xtick.labelsize': 16,\n",
    "    'ytick.labelsize': 16\n",
    "}\n",
    "plt.rcParams.update(params)"
   ]
  },
  {
   "cell_type": "code",
   "execution_count": 4,
   "metadata": {},
   "outputs": [],
   "source": [
    "DATA_FOLDER = './torch_data/VGAN/MNIST'"
   ]
  },
  {
   "cell_type": "code",
   "execution_count": 5,
   "metadata": {},
   "outputs": [],
   "source": [
    "CONTINUE_TRAINING = False"
   ]
  },
  {
   "cell_type": "code",
   "execution_count": 6,
   "metadata": {},
   "outputs": [],
   "source": [
    "N_RUN = 1"
   ]
  },
  {
   "cell_type": "code",
   "execution_count": 7,
   "metadata": {},
   "outputs": [],
   "source": [
    "# Number of epochs\n",
    "num_epochs = 200"
   ]
  },
  {
   "cell_type": "markdown",
   "metadata": {},
   "source": [
    "## Load Data"
   ]
  },
  {
   "cell_type": "code",
   "execution_count": 8,
   "metadata": {},
   "outputs": [],
   "source": [
    "def mnist_data():\n",
    "    compose = transforms.Compose(\n",
    "        [transforms.ToTensor(),\n",
    "         transforms.Normalize((.5,), (.5,))\n",
    "        ])\n",
    "    out_dir = '{}/dataset'.format(DATA_FOLDER)\n",
    "    return datasets.MNIST(root=out_dir, train=True, transform=compose, download=True)"
   ]
  },
  {
   "cell_type": "code",
   "execution_count": 9,
   "metadata": {},
   "outputs": [],
   "source": [
    "# Load data\n",
    "data = mnist_data()\n",
    "# Create loader with data, so that we can iterate over it\n",
    "data_loader = torch.utils.data.DataLoader(data, batch_size=100, shuffle=True)\n",
    "# Num batches\n",
    "num_batches = len(data_loader)"
   ]
  },
  {
   "cell_type": "markdown",
   "metadata": {},
   "source": [
    "## Networks"
   ]
  },
  {
   "cell_type": "code",
   "execution_count": 10,
   "metadata": {},
   "outputs": [],
   "source": [
    "if CONTINUE_TRAINING:\n",
    "    pretrained_model_D = \"data/models/VGAN/MNIST/D_epoch_\" + str((N_RUN-1) * num_epochs - 1)\n",
    "    pretrained_model_G = \"data/models/VGAN/MNIST/G_epoch_\" + str((N_RUN-1) * num_epochs - 1)"
   ]
  },
  {
   "cell_type": "code",
   "execution_count": 11,
   "metadata": {},
   "outputs": [],
   "source": [
    "class DiscriminatorNet(torch.nn.Module):\n",
    "    \"\"\"\n",
    "    A three hidden-layer discriminative neural network\n",
    "    \"\"\"\n",
    "    def __init__(self):\n",
    "        super(DiscriminatorNet, self).__init__()\n",
    "        n_features = 784\n",
    "        n_out = 1\n",
    "        \n",
    "        self.hidden0 = nn.Sequential( \n",
    "            nn.Linear(n_features, 1024),\n",
    "            nn.LeakyReLU(0.2),\n",
    "            nn.Dropout(0.3)\n",
    "        )\n",
    "        self.hidden1 = nn.Sequential(\n",
    "            nn.Linear(1024, 512),\n",
    "            nn.LeakyReLU(0.2),\n",
    "            nn.Dropout(0.3)\n",
    "        )\n",
    "        self.hidden2 = nn.Sequential(\n",
    "            nn.Linear(512, 256),\n",
    "            nn.LeakyReLU(0.2),\n",
    "            nn.Dropout(0.3)\n",
    "        )\n",
    "        self.out = nn.Sequential(\n",
    "            torch.nn.Linear(256, n_out),\n",
    "            torch.nn.Sigmoid()\n",
    "        )\n",
    "\n",
    "    def forward(self, x):\n",
    "        x = self.hidden0(x)\n",
    "        x = self.hidden1(x)\n",
    "        x = self.hidden2(x)\n",
    "        x = self.out(x)\n",
    "        return x\n",
    "    \n",
    "def images_to_vectors(images):\n",
    "    return images.view(images.size(0), 784)\n",
    "\n",
    "def vectors_to_images(vectors):\n",
    "    return vectors.view(vectors.size(0), 1, 28, 28)"
   ]
  },
  {
   "cell_type": "code",
   "execution_count": 12,
   "metadata": {},
   "outputs": [],
   "source": [
    "class GeneratorNet(torch.nn.Module):\n",
    "    \"\"\"\n",
    "    A three hidden-layer generative neural network\n",
    "    \"\"\"\n",
    "    def __init__(self):\n",
    "        super(GeneratorNet, self).__init__()\n",
    "        n_features = 100\n",
    "        n_out = 784\n",
    "        \n",
    "        self.hidden0 = nn.Sequential(\n",
    "            nn.Linear(n_features, 256),\n",
    "            nn.LeakyReLU(0.2)\n",
    "        )\n",
    "        self.hidden1 = nn.Sequential(            \n",
    "            nn.Linear(256, 512),\n",
    "            nn.LeakyReLU(0.2)\n",
    "        )\n",
    "        self.hidden2 = nn.Sequential(\n",
    "            nn.Linear(512, 1024),\n",
    "            nn.LeakyReLU(0.2)\n",
    "        )\n",
    "        \n",
    "        self.out = nn.Sequential(\n",
    "            nn.Linear(1024, n_out),\n",
    "            nn.Tanh()\n",
    "        )\n",
    "\n",
    "    def forward(self, x):\n",
    "        x = self.hidden0(x)\n",
    "        x = self.hidden1(x)\n",
    "        x = self.hidden2(x)\n",
    "        x = self.out(x)\n",
    "        return x\n",
    "    \n",
    "# Noise\n",
    "def noise(size):\n",
    "    n = Variable(torch.randn(size, 100))\n",
    "    if torch.cuda.is_available(): return n.cuda() \n",
    "    return n"
   ]
  },
  {
   "cell_type": "code",
   "execution_count": 13,
   "metadata": {
    "scrolled": false
   },
   "outputs": [
    {
     "name": "stdout",
     "output_type": "stream",
     "text": [
      "CUDA Available:  True\n"
     ]
    }
   ],
   "source": [
    "use_cuda = True\n",
    "\n",
    "print(\"CUDA Available: \",torch.cuda.is_available())\n",
    "device = torch.device(\"cuda\" if (use_cuda and torch.cuda.is_available()) else \"cpu\")"
   ]
  },
  {
   "cell_type": "code",
   "execution_count": 14,
   "metadata": {},
   "outputs": [],
   "source": [
    "# discriminator = DiscriminatorNet().to(device)\n",
    "discriminator = DiscriminatorNet()\n",
    "if CONTINUE_TRAINING:\n",
    "    discriminator.load_state_dict(torch.load(pretrained_model_D, map_location='cuda'))\n",
    "# discriminator.eval()     # <--- do NOT use this command to resume a training step"
   ]
  },
  {
   "cell_type": "code",
   "execution_count": 15,
   "metadata": {},
   "outputs": [],
   "source": [
    "# generator = GeneratorNet().to(device)\n",
    "generator = GeneratorNet()\n",
    "if CONTINUE_TRAINING:\n",
    "    generator.load_state_dict(torch.load(pretrained_model_G, map_location='cuda'))\n",
    "# generator.eval()     # <--- do NOT use this command to resume a training step"
   ]
  },
  {
   "cell_type": "code",
   "execution_count": 16,
   "metadata": {},
   "outputs": [
    {
     "name": "stderr",
     "output_type": "stream",
     "text": [
      "/home/tito/anaconda3/lib/python3.6/site-packages/torch/cuda/__init__.py:116: UserWarning: \n",
      "    Found GPU1 GeForce GT 640 which is of cuda capability 3.0.\n",
      "    PyTorch no longer supports this GPU because it is too old.\n",
      "    \n",
      "  warnings.warn(old_gpu_warn % (d, name, major, capability[1]))\n"
     ]
    }
   ],
   "source": [
    "if torch.cuda.is_available():\n",
    "    discriminator.cuda()\n",
    "    generator.cuda()"
   ]
  },
  {
   "cell_type": "markdown",
   "metadata": {},
   "source": [
    "## Optimization"
   ]
  },
  {
   "cell_type": "code",
   "execution_count": 17,
   "metadata": {},
   "outputs": [],
   "source": [
    "# Optimizers\n",
    "d_optimizer = optim.Adam(discriminator.parameters(), lr=0.00020)\n",
    "g_optimizer = optim.Adam(generator.parameters(), lr=0.00025)\n",
    "\n",
    "# Loss function\n",
    "loss = nn.BCELoss()\n",
    "\n",
    "# Number of steps to apply to the discriminator\n",
    "d_steps = 1  # In Goodfellow et. al 2014 this variable is assigned to 1\n"
   ]
  },
  {
   "cell_type": "markdown",
   "metadata": {},
   "source": [
    "## Training"
   ]
  },
  {
   "cell_type": "code",
   "execution_count": 18,
   "metadata": {},
   "outputs": [],
   "source": [
    "def real_data_target(size):\n",
    "    '''\n",
    "    Tensor containing ones, with shape = size\n",
    "    '''\n",
    "    data = Variable(torch.ones(size, 1))\n",
    "    if torch.cuda.is_available(): return data.cuda()\n",
    "    return data\n",
    "\n",
    "def fake_data_target(size):\n",
    "    '''\n",
    "    Tensor containing zeros, with shape = size\n",
    "    '''\n",
    "    data = Variable(torch.zeros(size, 1))\n",
    "    if torch.cuda.is_available(): return data.cuda()\n",
    "    return data"
   ]
  },
  {
   "cell_type": "code",
   "execution_count": null,
   "metadata": {},
   "outputs": [],
   "source": [
    "def train_discriminator(optimizer, real_data, fake_data):\n",
    "    # Reset gradients\n",
    "    optimizer.zero_grad()\n",
    "    \n",
    "    # 1.1 Train on Real Data\n",
    "    prediction_real = discriminator(real_data)\n",
    "    # Calculate error and backpropagate\n",
    "    error_real = loss(prediction_real, real_data_target(real_data.size(0)))\n",
    "    error_real.backward()\n",
    "\n",
    "    # 1.2 Train on Fake Data\n",
    "    prediction_fake = discriminator(fake_data)\n",
    "    # Calculate error and backpropagate\n",
    "    error_fake = loss(prediction_fake, fake_data_target(real_data.size(0)))\n",
    "    error_fake.backward()\n",
    "    \n",
    "    # 1.3 Update weights with gradients\n",
    "    optimizer.step()\n",
    "    \n",
    "    # Return error\n",
    "    return error_real + error_fake, prediction_real, prediction_fake\n",
    "\n",
    "def train_generator(optimizer, fake_data):\n",
    "    # 2. Train Generator\n",
    "    # Reset gradients\n",
    "    optimizer.zero_grad()\n",
    "    # Sample noise and generate fake data\n",
    "    prediction = discriminator(fake_data)\n",
    "    # Calculate error and backpropagate\n",
    "    error = loss(prediction, real_data_target(prediction.size(0)))\n",
    "    error.backward()\n",
    "    # Update weights with gradients\n",
    "    optimizer.step()\n",
    "    # Return error\n",
    "    return error"
   ]
  },
  {
   "cell_type": "markdown",
   "metadata": {},
   "source": [
    "### Generate Samples for Testing"
   ]
  },
  {
   "cell_type": "code",
   "execution_count": null,
   "metadata": {},
   "outputs": [],
   "source": [
    "num_test_samples = 16\n",
    "test_noise = noise(num_test_samples)"
   ]
  },
  {
   "cell_type": "markdown",
   "metadata": {},
   "source": [
    "### Start training"
   ]
  },
  {
   "cell_type": "code",
   "execution_count": null,
   "metadata": {
    "scrolled": false
   },
   "outputs": [
    {
     "data": {
      "image/svg+xml": [
       "<?xml version=\"1.0\" encoding=\"utf-8\" standalone=\"no\"?>\n",
       "<!DOCTYPE svg PUBLIC \"-//W3C//DTD SVG 1.1//EN\"\n",
       "  \"http://www.w3.org/Graphics/SVG/1.1/DTD/svg11.dtd\">\n",
       "<!-- Created with matplotlib (https://matplotlib.org/) -->\n",
       "<svg height=\"269.853006pt\" version=\"1.1\" viewBox=\"0 0 934.56 269.853006\" width=\"934.56pt\" xmlns=\"http://www.w3.org/2000/svg\" xmlns:xlink=\"http://www.w3.org/1999/xlink\">\n",
       " <defs>\n",
       "  <style type=\"text/css\">\n",
       "*{stroke-linecap:butt;stroke-linejoin:round;}\n",
       "  </style>\n",
       " </defs>\n",
       " <g id=\"figure_1\">\n",
       "  <g id=\"patch_1\">\n",
       "   <path d=\"M 0 269.853006 \n",
       "L 934.56 269.853006 \n",
       "L 934.56 0 \n",
       "L 0 0 \n",
       "z\n",
       "\" style=\"fill:none;\"/>\n",
       "  </g>\n",
       "  <g id=\"axes_1\">\n",
       "   <g clip-path=\"url(#p421c512796)\">\n",
       "    <image height=\"229\" id=\"imageacd9c971ec\" transform=\"scale(1 -1)translate(0 -229)\" width=\"893\" x=\"34.56\" xlink:href=\"data:image/png;base64,\n",
       "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\" y=\"-11.168006\"/>\n",
       "   </g>\n",
       "  </g>\n",
       " </g>\n",
       " <defs>\n",
       "  <clipPath id=\"p421c512796\">\n",
       "   <rect height=\"228.733884\" width=\"892.8\" x=\"34.56\" y=\"11.434122\"/>\n",
       "  </clipPath>\n",
       " </defs>\n",
       "</svg>\n"
      ],
      "text/plain": [
       "<Figure size 1152x1152 with 1 Axes>"
      ]
     },
     "metadata": {},
     "output_type": "display_data"
    },
    {
     "name": "stdout",
     "output_type": "stream",
     "text": [
      "Epoch: [176/200], Batch Num: [400/600]\n",
      "Discriminator Loss: 0.0000, Generator Loss: 69.1517\n",
      "D(x): 1.0000, D(G(z)): 0.0000\n",
      "Epoch 176, Batch 400 took \t 7.908597 seconds.\n",
      "Until now:\t 2:26:07.119402\n"
     ]
    }
   ],
   "source": [
    "%%time\n",
    "\n",
    "t = TicToc()\n",
    "\n",
    "t.tic()\n",
    "\n",
    "TV = 0\n",
    "timing = []\n",
    "\n",
    "logger = Logger(model_name='VGAN', data_name='MNIST')\n",
    "\n",
    "d_error_epochs = []\n",
    "g_error_epochs = []\n",
    "d_pred_real_epochs = []\n",
    "d_pred_fake_epochs = []\n",
    "\n",
    "for epoch in range((N_RUN - 1) * num_epochs + 1, (N_RUN-1) * num_epochs + num_epochs + 1):\n",
    "    \n",
    "    d_error_batches = []\n",
    "    g_error_batches = []\n",
    "    d_pred_real_batches = []\n",
    "    d_pred_fake_batches = []\n",
    "    \n",
    "    for n_batch, (real_batch,_) in enumerate(data_loader, 1):\n",
    "\n",
    "        # 1. Train Discriminator\n",
    "        real_data = Variable(images_to_vectors(real_batch))\n",
    "        if torch.cuda.is_available(): real_data = real_data.cuda()\n",
    "        # Generate fake data\n",
    "        fake_data = generator(noise(real_data.size(0))).detach()\n",
    "        # Train D\n",
    "        d_error, d_pred_real, d_pred_fake = train_discriminator(d_optimizer,\n",
    "                                                                real_data, fake_data)\n",
    "\n",
    "        # 2. Train Generator\n",
    "        # Generate fake data\n",
    "        fake_data = generator(noise(real_batch.size(0)))\n",
    "        # Train G\n",
    "        g_error = train_generator(g_optimizer, fake_data)\n",
    "        # Log error\n",
    "        logger.log(d_error, g_error, epoch, n_batch, num_batches)\n",
    "\n",
    "        # Display Progress\n",
    "        if (n_batch) % 100 == 0:\n",
    "            display.clear_output(True)\n",
    "            # Display Images\n",
    "            test_images = vectors_to_images(generator(test_noise)).data.cpu()\n",
    "            logger.log_images(test_images, num_test_samples, epoch, n_batch, num_batches);\n",
    "            # Display status Logs\n",
    "            logger.display_status(\n",
    "                epoch, num_epochs * N_RUN, n_batch, num_batches,\n",
    "                float(d_error), float(g_error), d_pred_real, d_pred_fake\n",
    "            )\n",
    "            \n",
    "            TV = TV + t.tocvalue()\n",
    "            t.toc('Epoch %d, Batch %d took \\t' % (epoch, n_batch), restart=True)\n",
    "            print(\"Until now:\\t {:0>8}\".format(str(datetime.timedelta(seconds=TV))))\n",
    "            \n",
    "            timing.append(TV)\n",
    "            \n",
    "#         print('d_pred_real_batches shape: ', np.array(d_pred_real_batches).shape)\n",
    "#         print('d_pred_fake_batches shape: ', np.array(d_pred_fake_batches).shape)\n",
    "            \n",
    "        d_error_batches.append(d_error.tolist())\n",
    "        g_error_batches.append(g_error.tolist())\n",
    "        d_pred_real_batches.append(d_pred_real.data.tolist())\n",
    "        d_pred_fake_batches.append(d_pred_fake.data.tolist())\n",
    "        \n",
    "        # Model Checkpoints\n",
    "        logger.save_models(generator, discriminator, epoch)\n",
    "        \n",
    "#     print('d_pred_real_epochs shape: ', np.array(d_pred_real_epochs).shape)\n",
    "#     print('d_pred_fake_epochs shape: ', np.array(d_pred_fake_epochs).shape)\n",
    "        \n",
    "    d_error_epochs.append(d_error_batches)\n",
    "    g_error_epochs.append(g_error_batches)\n",
    "    d_pred_real_epochs.append(d_pred_real_batches)\n",
    "    d_pred_fake_epochs.append(d_pred_fake_batches)"
   ]
  },
  {
   "cell_type": "code",
   "execution_count": null,
   "metadata": {},
   "outputs": [],
   "source": [
    "len(d_pred_real_epochs)"
   ]
  },
  {
   "cell_type": "code",
   "execution_count": null,
   "metadata": {},
   "outputs": [],
   "source": [
    "d_error_batches_array = np.array(d_error_batches)\n",
    "d_error_batches_array.shape"
   ]
  },
  {
   "cell_type": "code",
   "execution_count": null,
   "metadata": {},
   "outputs": [],
   "source": [
    "d_error_epochs_array = np.array(d_error_epochs)\n",
    "d_error_epochs_array.shape"
   ]
  },
  {
   "cell_type": "code",
   "execution_count": null,
   "metadata": {},
   "outputs": [],
   "source": [
    "g_error_batches_array = np.array(g_error_batches)\n",
    "g_error_batches_array.shape"
   ]
  },
  {
   "cell_type": "code",
   "execution_count": null,
   "metadata": {},
   "outputs": [],
   "source": [
    "g_error_epochs_array = np.array(g_error_epochs)\n",
    "g_error_epochs_array.shape"
   ]
  },
  {
   "cell_type": "code",
   "execution_count": null,
   "metadata": {},
   "outputs": [],
   "source": [
    "d_pred_real_epochs_array = np.array(d_pred_real_epochs)\n",
    "d_pred_real_epochs_array.shape"
   ]
  },
  {
   "cell_type": "code",
   "execution_count": null,
   "metadata": {},
   "outputs": [],
   "source": [
    "d_pred_fake_epochs_array = np.array(d_pred_fake_epochs)\n",
    "d_pred_fake_epochs_array.shape"
   ]
  },
  {
   "cell_type": "code",
   "execution_count": null,
   "metadata": {},
   "outputs": [],
   "source": [
    "new_d_pred_real_epochs_array = d_pred_real_epochs_array.reshape((200, 600, 100))\n",
    "new_d_pred_fake_epochs_array = d_pred_fake_epochs_array.reshape((200, 600, 100))\n",
    "\n",
    "prob_real = []\n",
    "for i in new_d_pred_real_epochs_array:\n",
    "    tmpReal = []\n",
    "    for j in i:\n",
    "        tmpReal.append(j[0])\n",
    "    prob_real.append(np.mean(tmpReal))\n",
    "prob_real = np.array(prob_real)\n",
    "\n",
    "prob_fake = []\n",
    "for i in new_d_pred_fake_epochs_array:\n",
    "    tmpFake = []\n",
    "    for j in i:\n",
    "        tmpFake.append(j[0])\n",
    "    prob_fake.append(np.mean(tmpFake))\n",
    "prob_fake = np.array(prob_fake)"
   ]
  },
  {
   "cell_type": "code",
   "execution_count": null,
   "metadata": {},
   "outputs": [],
   "source": [
    "plt.figure(figsize=(10,5))\n",
    "plt.plot(np.linspace(prob_real.shape[0] + ((N_RUN-2) * num_epochs), prob_real.shape[0] + ((N_RUN-1) * num_epochs) - 1,prob_real.shape[0]), prob_real, LineWidth=3, label='real')\n",
    "plt.plot(np.linspace(prob_fake.shape[0] + ((N_RUN-2) * num_epochs), prob_fake.shape[0] + ((N_RUN-1) * num_epochs) - 1,prob_fake.shape[0]), prob_fake, LineWidth=3, label='fake')\n",
    "plt.xlabel('Epoch')\n",
    "plt.ylabel('Probability')\n",
    "plt.xlim(200, 400)\n",
    "plt.ylim(0,1)\n",
    "plt.xticks([200, 250, 300, 350, 400])\n",
    "plt.yticks([0, 0.25, 0.5, 0.75, 1])\n",
    "plt.grid(True)\n",
    "plt.legend()\n",
    "plt.savefig('uncertainty_' + str(N_RUN * 200) + '.pdf', format='pdf', dpi=300, bbox_inches='tight')\n",
    "plt.show()"
   ]
  },
  {
   "cell_type": "code",
   "execution_count": null,
   "metadata": {},
   "outputs": [],
   "source": [
    "d_pred_fake_epochs_array = np.array(d_pred_fake_epochs)\n",
    "d_pred_fake_epochs_array.shape"
   ]
  },
  {
   "cell_type": "code",
   "execution_count": null,
   "metadata": {},
   "outputs": [],
   "source": [
    "# d_pred_real_array = np.array(d_pred_real.tolist())\n",
    "# d_pred_real_array = d_pred_real_array.reshape(d_pred_real_array.shape[0])\n",
    "\n",
    "# d_pred_fake_array = np.array(d_pred_fake.tolist())\n",
    "# d_pred_fake_array = d_pred_fake_array.reshape(d_pred_fake_array.shape[0])"
   ]
  },
  {
   "cell_type": "code",
   "execution_count": null,
   "metadata": {},
   "outputs": [],
   "source": [
    "csvfile = \"d_error_\" + str(N_RUN * num_epochs) + \".csv\"\n",
    "with open(csvfile, \"w\") as output:\n",
    "    writer = csv.writer(output, lineterminator='\\n')\n",
    "    writer.writerows(d_error_epochs)\n",
    "    \n",
    "csvfile = \"g_error_\" + str(N_RUN * num_epochs) + \".csv\"\n",
    "with open(csvfile, \"w\") as output:\n",
    "    writer = csv.writer(output, lineterminator='\\n')\n",
    "    writer.writerows(g_error_epochs)\n",
    "    \n",
    "csvfile = \"d_pred_real_\" + str(N_RUN * num_epochs) + \".csv\"\n",
    "with open(csvfile, \"w\") as output:\n",
    "    writer = csv.writer(output, lineterminator='\\n')\n",
    "    for val in d_pred_real:\n",
    "        writer.writerow([val])\n",
    "        \n",
    "csvfile = \"d_pred_fake_\" + str(N_RUN * num_epochs) + \".csv\"\n",
    "with open(csvfile, \"w\") as output:\n",
    "    writer = csv.writer(output, lineterminator='\\n')\n",
    "    for val in d_pred_fake:\n",
    "        writer.writerow([val])"
   ]
  },
  {
   "cell_type": "code",
   "execution_count": null,
   "metadata": {},
   "outputs": [],
   "source": [
    "d_error_epochs_array = np.array(d_error_epochs)\n",
    "new_d_error_epochs_array = np.array([np.mean(d_error_epochs_array[i,:]) for i in range(d_error_epochs_array.shape[0])])\n",
    "\n",
    "g_error_epochs_array = np.array(g_error_epochs)\n",
    "new_g_error_epochs_array = np.array([np.mean(g_error_epochs_array[i,:]) for i in range(g_error_epochs_array.shape[0])])"
   ]
  },
  {
   "cell_type": "code",
   "execution_count": null,
   "metadata": {},
   "outputs": [],
   "source": []
  },
  {
   "cell_type": "code",
   "execution_count": null,
   "metadata": {},
   "outputs": [],
   "source": [
    "plt.figure(figsize=(8,5))\n",
    "plt.plot(range(d_error_epochs_array.shape[0]), new_d_error_epochs_array, LineWidth=3, label='discriminator')\n",
    "plt.plot(range(g_error_epochs_array.shape[0]), new_g_error_epochs_array, LineWidth=3, label='generator')\n",
    "plt.xlabel('Epoch')\n",
    "plt.ylabel('Loss')\n",
    "plt.xlim(0, 200)\n",
    "plt.ylim(0, 4)\n",
    "plt.grid(True)\n",
    "plt.legend()\n",
    "plt.savefig('loss_' + str(N_RUN * num_epochs) + '.pdf', format='pdf', dpi=300, bbox_inches='tight')\n",
    "plt.show()"
   ]
  },
  {
   "cell_type": "code",
   "execution_count": null,
   "metadata": {},
   "outputs": [],
   "source": [
    "# plt.figure(figsize=(8,5))\n",
    "# plt.plot(range(d_pred_real_array.shape[0]), d_pred_real_array, LineWidth=3, label='real')\n",
    "# plt.plot(range(d_pred_fake_array.shape[0]), d_pred_fake_array, LineWidth=3, label='fake')\n",
    "# plt.xlabel('Epoch')\n",
    "# plt.ylabel('Uncertainty')\n",
    "# plt.xlim(0,200)\n",
    "# plt.grid(True)\n",
    "# plt.legend()\n",
    "# plt.savefig('uncertainty_' + str(N_RUN * num_epochs) + '.pdf', format='pdf', dpi=300, bbox_inches='tight')\n",
    "# plt.show()"
   ]
  },
  {
   "cell_type": "code",
   "execution_count": null,
   "metadata": {},
   "outputs": [],
   "source": [
    "new_timing = []\n",
    "new_timing_mean = []\n",
    "new_timing_sum = []\n",
    "\n",
    "for i in range(int(len(timing)/6)):\n",
    "    new_timing.append(timing[i:i+6])\n",
    "    new_timing_mean.append(np.mean(timing[i:i+6]))\n",
    "    new_timing_sum.append(np.sum(timing[i:i+6]))\n",
    "    \n",
    "new_timing = np.array(new_timing)\n",
    "new_timing_mean = np.array(new_timing_mean)\n",
    "new_timing_sum = np.array(new_timing_sum)"
   ]
  },
  {
   "cell_type": "code",
   "execution_count": null,
   "metadata": {},
   "outputs": [],
   "source": [
    "plt.figure(figsize=(8,5))\n",
    "plt.plot(range(new_timing_mean.shape[0]), new_timing_mean, LineWidth=3, label='Mean Epoch Time')\n",
    "plt.plot(range(new_timing_sum.shape[0]), new_timing_sum, LineWidth=3, label='Total Epoch Time' )\n",
    "plt.legend()\n",
    "plt.xlabel('Epoch')\n",
    "plt.ylabel('Processing Time [seconds]')\n",
    "plt.xlim(0,200)\n",
    "plt.ylim(0, 12000)\n",
    "plt.xticks([0, 50, 100, 150, 200])\n",
    "plt.yticks([0, 4000, 8000, 12000])\n",
    "plt.grid(True)\n",
    "plt.savefig('timing_' + str(N_RUN * num_epochs) + '.pdf', format='pdf', dpi=300, bbox_inches='tight')\n",
    "plt.show()"
   ]
  },
  {
   "cell_type": "code",
   "execution_count": null,
   "metadata": {},
   "outputs": [],
   "source": [
    "new_timing_mean.shape"
   ]
  },
  {
   "cell_type": "code",
   "execution_count": null,
   "metadata": {},
   "outputs": [],
   "source": [
    "T = [0]\n",
    "T_tmp = [new_timing_mean[i+1] - new_timing_mean[i] for i in range(new_timing_mean.shape[0]-1)]\n",
    "T.extend(T_tmp)\n",
    "T = np.array(T)\n",
    "\n",
    "csvfile = \"T_\" + str(N_RUN * num_epochs) + \".csv\"\n",
    "with open(csvfile, \"w\") as output:\n",
    "    writer = csv.writer(output, lineterminator='\\n')\n",
    "    for val in T:\n",
    "        writer.writerow([val])"
   ]
  },
  {
   "cell_type": "code",
   "execution_count": null,
   "metadata": {},
   "outputs": [],
   "source": [
    "plt.figure(figsize=(8,5))\n",
    "plt.plot(range(T.shape[0]), T, LineWidth=3, label='Processing Time')\n",
    "plt.hlines(np.mean(T), xmin=0, xmax=200, LineWidth=3, color='r', label='Mean (%.2f s)'%np.mean(T))\n",
    "plt.legend()\n",
    "plt.xlabel('Epoch')\n",
    "plt.ylabel('Processing Time [s]')\n",
    "plt.xlim(0,200)\n",
    "plt.ylim(0, 12)\n",
    "plt.xticks([0, 50, 100, 150, 200])\n",
    "plt.yticks([0, 2, 4, 6, 8, 10, 12])\n",
    "plt.grid(True)\n",
    "plt.savefig('T_' + str(N_RUN * num_epochs) + '.pdf', format='pdf', dpi=300, bbox_inches='tight')\n",
    "plt.show()"
   ]
  },
  {
   "cell_type": "code",
   "execution_count": null,
   "metadata": {},
   "outputs": [],
   "source": []
  }
 ],
 "metadata": {
  "kernelspec": {
   "display_name": "Python 3",
   "language": "python",
   "name": "python3"
  },
  "language_info": {
   "codemirror_mode": {
    "name": "ipython",
    "version": 3
   },
   "file_extension": ".py",
   "mimetype": "text/x-python",
   "name": "python",
   "nbconvert_exporter": "python",
   "pygments_lexer": "ipython3",
   "version": "3.6.6"
  }
 },
 "nbformat": 4,
 "nbformat_minor": 2
}
