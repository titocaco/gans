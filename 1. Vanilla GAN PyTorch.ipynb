{
 "cells": [
  {
   "cell_type": "code",
   "execution_count": 1,
   "metadata": {},
   "outputs": [],
   "source": [
    "%load_ext autoreload\n",
    "%matplotlib inline"
   ]
  },
  {
   "cell_type": "code",
   "execution_count": 2,
   "metadata": {},
   "outputs": [],
   "source": [
    "%autoreload 2\n",
    "\n",
    "from IPython import display\n",
    "\n",
    "from utils import Logger\n",
    "\n",
    "import torch\n",
    "from torch import nn, optim\n",
    "from torch.autograd.variable import Variable\n",
    "from torchvision import transforms, datasets\n",
    "\n",
    "from pytictoc import TicToc\n",
    "import datetime\n",
    "\n",
    "import numpy as np\n",
    "import matplotlib.pyplot as plt\n",
    "\n",
    "import csv"
   ]
  },
  {
   "cell_type": "code",
   "execution_count": null,
   "metadata": {},
   "outputs": [],
   "source": []
  },
  {
   "cell_type": "code",
   "execution_count": 3,
   "metadata": {},
   "outputs": [],
   "source": [
    "DATA_FOLDER = './torch_data/VGAN/MNIST'"
   ]
  },
  {
   "cell_type": "code",
   "execution_count": 4,
   "metadata": {},
   "outputs": [],
   "source": [
    "CONTINUE_TRAINING = False"
   ]
  },
  {
   "cell_type": "code",
   "execution_count": 5,
   "metadata": {},
   "outputs": [],
   "source": [
    "N_RUN = 1"
   ]
  },
  {
   "cell_type": "code",
   "execution_count": 6,
   "metadata": {},
   "outputs": [],
   "source": [
    "# Number of epochs\n",
    "num_epochs = 200"
   ]
  },
  {
   "cell_type": "markdown",
   "metadata": {},
   "source": [
    "## Load Data"
   ]
  },
  {
   "cell_type": "code",
   "execution_count": 7,
   "metadata": {},
   "outputs": [],
   "source": [
    "def mnist_data():\n",
    "    compose = transforms.Compose(\n",
    "        [transforms.ToTensor(),\n",
    "         transforms.Normalize((.5,), (.5,))\n",
    "        ])\n",
    "    out_dir = '{}/dataset'.format(DATA_FOLDER)\n",
    "    return datasets.MNIST(root=out_dir, train=True, transform=compose, download=True)"
   ]
  },
  {
   "cell_type": "code",
   "execution_count": 8,
   "metadata": {},
   "outputs": [],
   "source": [
    "# Load data\n",
    "data = mnist_data()\n",
    "# Create loader with data, so that we can iterate over it\n",
    "data_loader = torch.utils.data.DataLoader(data, batch_size=100, shuffle=True)\n",
    "# Num batches\n",
    "num_batches = len(data_loader)"
   ]
  },
  {
   "cell_type": "markdown",
   "metadata": {},
   "source": [
    "## Networks"
   ]
  },
  {
   "cell_type": "code",
   "execution_count": 9,
   "metadata": {},
   "outputs": [],
   "source": [
    "if CONTINUE_TRAINING:\n",
    "    pretrained_model_D = \"data/models/VGAN/MNIST/D_epoch_\" + str((N_RUN-1) * num_epochs - 1)\n",
    "    pretrained_model_G = \"data/models/VGAN/MNIST/G_epoch_\" + str((N_RUN-1) * num_epochs - 1)"
   ]
  },
  {
   "cell_type": "code",
   "execution_count": 10,
   "metadata": {},
   "outputs": [],
   "source": [
    "class DiscriminatorNet(torch.nn.Module):\n",
    "    \"\"\"\n",
    "    A three hidden-layer discriminative neural network\n",
    "    \"\"\"\n",
    "    def __init__(self):\n",
    "        super(DiscriminatorNet, self).__init__()\n",
    "        n_features = 784\n",
    "        n_out = 1\n",
    "        \n",
    "        self.hidden0 = nn.Sequential( \n",
    "            nn.Linear(n_features, 1024),\n",
    "            nn.LeakyReLU(0.2),\n",
    "            nn.Dropout(0.3)\n",
    "        )\n",
    "        self.hidden1 = nn.Sequential(\n",
    "            nn.Linear(1024, 512),\n",
    "            nn.LeakyReLU(0.2),\n",
    "            nn.Dropout(0.3)\n",
    "        )\n",
    "        self.hidden2 = nn.Sequential(\n",
    "            nn.Linear(512, 256),\n",
    "            nn.LeakyReLU(0.2),\n",
    "            nn.Dropout(0.3)\n",
    "        )\n",
    "        self.out = nn.Sequential(\n",
    "            torch.nn.Linear(256, n_out),\n",
    "            torch.nn.Sigmoid()\n",
    "        )\n",
    "\n",
    "    def forward(self, x):\n",
    "        x = self.hidden0(x)\n",
    "        x = self.hidden1(x)\n",
    "        x = self.hidden2(x)\n",
    "        x = self.out(x)\n",
    "        return x\n",
    "    \n",
    "def images_to_vectors(images):\n",
    "    return images.view(images.size(0), 784)\n",
    "\n",
    "def vectors_to_images(vectors):\n",
    "    return vectors.view(vectors.size(0), 1, 28, 28)"
   ]
  },
  {
   "cell_type": "code",
   "execution_count": 11,
   "metadata": {},
   "outputs": [],
   "source": [
    "class GeneratorNet(torch.nn.Module):\n",
    "    \"\"\"\n",
    "    A three hidden-layer generative neural network\n",
    "    \"\"\"\n",
    "    def __init__(self):\n",
    "        super(GeneratorNet, self).__init__()\n",
    "        n_features = 100\n",
    "        n_out = 784\n",
    "        \n",
    "        self.hidden0 = nn.Sequential(\n",
    "            nn.Linear(n_features, 256),\n",
    "            nn.LeakyReLU(0.2)\n",
    "        )\n",
    "        self.hidden1 = nn.Sequential(            \n",
    "            nn.Linear(256, 512),\n",
    "            nn.LeakyReLU(0.2)\n",
    "        )\n",
    "        self.hidden2 = nn.Sequential(\n",
    "            nn.Linear(512, 1024),\n",
    "            nn.LeakyReLU(0.2)\n",
    "        )\n",
    "        \n",
    "        self.out = nn.Sequential(\n",
    "            nn.Linear(1024, n_out),\n",
    "            nn.Tanh()\n",
    "        )\n",
    "\n",
    "    def forward(self, x):\n",
    "        x = self.hidden0(x)\n",
    "        x = self.hidden1(x)\n",
    "        x = self.hidden2(x)\n",
    "        x = self.out(x)\n",
    "        return x\n",
    "    \n",
    "# Noise\n",
    "def noise(size):\n",
    "    n = Variable(torch.randn(size, 100))\n",
    "    if torch.cuda.is_available(): return n.cuda() \n",
    "    return n"
   ]
  },
  {
   "cell_type": "code",
   "execution_count": 12,
   "metadata": {
    "scrolled": false
   },
   "outputs": [
    {
     "name": "stdout",
     "output_type": "stream",
     "text": [
      "CUDA Available:  True\n"
     ]
    }
   ],
   "source": [
    "use_cuda = True\n",
    "\n",
    "print(\"CUDA Available: \",torch.cuda.is_available())\n",
    "device = torch.device(\"cuda\" if (use_cuda and torch.cuda.is_available()) else \"cpu\")"
   ]
  },
  {
   "cell_type": "code",
   "execution_count": 13,
   "metadata": {},
   "outputs": [],
   "source": [
    "# discriminator = DiscriminatorNet().to(device)\n",
    "discriminator = DiscriminatorNet()\n",
    "if CONTINUE_TRAINING:\n",
    "    discriminator.load_state_dict(torch.load(pretrained_model_D, map_location='cuda'))\n",
    "# discriminator.eval()     # <--- do NOT use this command to resume a training step"
   ]
  },
  {
   "cell_type": "code",
   "execution_count": 14,
   "metadata": {},
   "outputs": [],
   "source": [
    "# generator = GeneratorNet().to(device)\n",
    "generator = GeneratorNet()\n",
    "if CONTINUE_TRAINING:\n",
    "    generator.load_state_dict(torch.load(pretrained_model_G, map_location='cuda'))\n",
    "# generator.eval()     # <--- do NOT use this command to resume a training step"
   ]
  },
  {
   "cell_type": "code",
   "execution_count": 15,
   "metadata": {},
   "outputs": [],
   "source": [
    "if torch.cuda.is_available():\n",
    "    discriminator.cuda()\n",
    "    generator.cuda()"
   ]
  },
  {
   "cell_type": "markdown",
   "metadata": {},
   "source": [
    "## Optimization"
   ]
  },
  {
   "cell_type": "code",
   "execution_count": 16,
   "metadata": {},
   "outputs": [],
   "source": [
    "# Optimizers\n",
    "d_optimizer = optim.Adam(discriminator.parameters(), lr=0.00020)\n",
    "g_optimizer = optim.Adam(generator.parameters(), lr=0.00020)\n",
    "\n",
    "# Loss function\n",
    "loss = nn.BCELoss()\n",
    "\n",
    "# Number of steps to apply to the discriminator\n",
    "d_steps = 1  # In Goodfellow et. al 2014 this variable is assigned to 1\n"
   ]
  },
  {
   "cell_type": "markdown",
   "metadata": {},
   "source": [
    "## Training"
   ]
  },
  {
   "cell_type": "code",
   "execution_count": 17,
   "metadata": {},
   "outputs": [],
   "source": [
    "def real_data_target(size):\n",
    "    '''\n",
    "    Tensor containing ones, with shape = size\n",
    "    '''\n",
    "    data = Variable(torch.ones(size, 1))\n",
    "    if torch.cuda.is_available(): return data.cuda()\n",
    "    return data\n",
    "\n",
    "def fake_data_target(size):\n",
    "    '''\n",
    "    Tensor containing zeros, with shape = size\n",
    "    '''\n",
    "    data = Variable(torch.zeros(size, 1))\n",
    "    if torch.cuda.is_available(): return data.cuda()\n",
    "    return data"
   ]
  },
  {
   "cell_type": "code",
   "execution_count": 18,
   "metadata": {},
   "outputs": [],
   "source": [
    "def train_discriminator(optimizer, real_data, fake_data):\n",
    "    # Reset gradients\n",
    "    optimizer.zero_grad()\n",
    "    \n",
    "    # 1.1 Train on Real Data\n",
    "    prediction_real = discriminator(real_data)\n",
    "    # Calculate error and backpropagate\n",
    "    error_real = loss(prediction_real, real_data_target(real_data.size(0)))\n",
    "    error_real.backward()\n",
    "\n",
    "    # 1.2 Train on Fake Data\n",
    "    prediction_fake = discriminator(fake_data)\n",
    "    # Calculate error and backpropagate\n",
    "    error_fake = loss(prediction_fake, fake_data_target(real_data.size(0)))\n",
    "    error_fake.backward()\n",
    "    \n",
    "    # 1.3 Update weights with gradients\n",
    "    optimizer.step()\n",
    "    \n",
    "    # Return error\n",
    "    return error_real + error_fake, prediction_real, prediction_fake\n",
    "\n",
    "def train_generator(optimizer, fake_data):\n",
    "    # 2. Train Generator\n",
    "    # Reset gradients\n",
    "    optimizer.zero_grad()\n",
    "    # Sample noise and generate fake data\n",
    "    prediction = discriminator(fake_data)\n",
    "    # Calculate error and backpropagate\n",
    "    error = loss(prediction, real_data_target(prediction.size(0)))\n",
    "    error.backward()\n",
    "    # Update weights with gradients\n",
    "    optimizer.step()\n",
    "    # Return error\n",
    "    return error"
   ]
  },
  {
   "cell_type": "markdown",
   "metadata": {},
   "source": [
    "### Generate Samples for Testing"
   ]
  },
  {
   "cell_type": "code",
   "execution_count": 19,
   "metadata": {},
   "outputs": [],
   "source": [
    "num_test_samples = 16\n",
    "test_noise = noise(num_test_samples)"
   ]
  },
  {
   "cell_type": "markdown",
   "metadata": {},
   "source": [
    "### Defining File Writing to Disc"
   ]
  },
  {
   "cell_type": "code",
   "execution_count": 20,
   "metadata": {},
   "outputs": [],
   "source": [
    "def writeCSV(filename, array):\n",
    "        \n",
    "#     if array.shape[0] > 1:\n",
    "#     with open(filename, 'a') as f:\n",
    "#         for row in array:\n",
    "#             for value in row:\n",
    "#                 f.write(str(value) + ',')\n",
    "#             f.write(\"\\n\")\n",
    "#     else:\n",
    "    with open(filename, 'a') as f:\n",
    "        for value in array:\n",
    "            f.write(str(value) + ',')\n",
    "        f.write(\"\\n\")\n",
    "        \n",
    "def clearCSV(filename):\n",
    "    out_filename = \"clean_\" + filename\n",
    "    with open(filename, 'r') as r, open(out_filename, 'w') as w:    \n",
    "        for num, line in enumerate(r):\n",
    "            if num > 0:            \n",
    "                newline = line[:-2] + \"\\n\" if \"\\n\" in line else line[:-1]\n",
    "            else:\n",
    "                newline = line               \n",
    "            w.write(newline)"
   ]
  },
  {
   "cell_type": "markdown",
   "metadata": {},
   "source": [
    "### Start training"
   ]
  },
  {
   "cell_type": "code",
   "execution_count": 21,
   "metadata": {
    "scrolled": false
   },
   "outputs": [
    {
     "data": {
      "image/png": "[encoded data removed]",
      "text/plain": [
       "<matplotlib.figure.Figure at 0x7f055f91ad68>"
      ]
     },
     "metadata": {},
     "output_type": "display_data"
    },
    {
     "name": "stdout",
     "output_type": "stream",
     "text": [
      "Epoch: [200/200], Batch Num: [600/600]\n",
      "Discriminator Loss: 1.2502, Generator Loss: 0.9165\n",
      "D(x): 0.5598, D(G(z)): 0.4540\n"
     ]
    }
   ],
   "source": [
    "# %%time\n",
    "\n",
    "# t = TicToc()\n",
    "\n",
    "# t.tic()\n",
    "\n",
    "# TV = 0\n",
    "# timing = []\n",
    "\n",
    "logger = Logger(model_name='VGAN', data_name='MNIST')\n",
    "\n",
    "\n",
    "\n",
    "for epoch in range((N_RUN - 1) * num_epochs + 1, (N_RUN-1) * num_epochs + num_epochs + 1):\n",
    "    \n",
    "    d_error_epochs = []\n",
    "    g_error_epochs = []\n",
    "    d_pred_real_epochs = []\n",
    "    d_pred_fake_epochs = []\n",
    "    \n",
    "    d_error_batches = []\n",
    "    g_error_batches = []\n",
    "    d_pred_real_batches = []\n",
    "    d_pred_fake_batches = []\n",
    "    \n",
    "    for n_batch, (real_batch,_) in enumerate(data_loader, 1):\n",
    "\n",
    "        # 1. Train Discriminator\n",
    "        real_data = Variable(images_to_vectors(real_batch))\n",
    "        if torch.cuda.is_available(): real_data = real_data.cuda()\n",
    "        # Generate fake data\n",
    "        fake_data = generator(noise(real_data.size(0))).detach()\n",
    "        # Train D\n",
    "        d_error, d_pred_real, d_pred_fake = train_discriminator(d_optimizer,\n",
    "                                                                real_data, fake_data)\n",
    "\n",
    "        # 2. Train Generator\n",
    "        # Generate fake data\n",
    "        fake_data = generator(noise(real_batch.size(0)))\n",
    "        # Train G\n",
    "        g_error = train_generator(g_optimizer, fake_data)\n",
    "        # Log error\n",
    "        logger.log(d_error, g_error, epoch, n_batch, num_batches)\n",
    "\n",
    "        # Display Progress\n",
    "        if (n_batch) % 200 == 0:\n",
    "            display.clear_output(True)\n",
    "            # Display Images\n",
    "            test_images = vectors_to_images(generator(test_noise)).data.cpu()\n",
    "            logger.log_images(test_images, num_test_samples, epoch, n_batch, num_batches);\n",
    "            # Display status Logs\n",
    "            logger.display_status(\n",
    "                epoch, num_epochs * N_RUN, n_batch, num_batches,\n",
    "                float(d_error), float(g_error), d_pred_real, d_pred_fake\n",
    "            )\n",
    "            \n",
    "            \n",
    "            \n",
    "#             TV = TV + t.tocvalue()\n",
    "#             t.toc('Epoch %d, Batch %d took \\t' % (epoch, n_batch), restart=True)\n",
    "#             print(\"Until now:\\t {:0>8}\".format(str(datetime.timedelta(seconds=TV))))\n",
    "            \n",
    "#             timing.append(TV)\n",
    "            \n",
    "    \n",
    "    \n",
    "    \n",
    "#         print('d_pred_real_batches shape: ', np.array(d_pred_real_batches).shape)\n",
    "#         print('d_pred_fake_batches shape: ', np.array(d_pred_fake_batches).shape)\n",
    "            \n",
    "    \n",
    "    \n",
    "        d_error_batches.append(d_error.tolist())\n",
    "        g_error_batches.append(g_error.tolist())\n",
    "        d_pred_real_batches.append(d_pred_real.data.tolist())\n",
    "        d_pred_fake_batches.append(d_pred_fake.data.tolist())\n",
    "        \n",
    "        # Model Checkpoints\n",
    "        logger.save_models(generator, discriminator, epoch)\n",
    "        \n",
    "#     print('d_pred_real_epochs shape: ', np.array(d_pred_real_epochs).shape)\n",
    "#     print('d_pred_fake_epochs shape: ', np.array(d_pred_fake_epochs).shape)\n",
    "    \n",
    "    \n",
    "    \n",
    "    \n",
    "    d_error_epochs.append(d_error_batches)\n",
    "    g_error_epochs.append(g_error_batches)\n",
    "    d_pred_real_epochs.append(d_pred_real_batches)\n",
    "    d_pred_fake_epochs.append(d_pred_fake_batches)\n",
    "    \n",
    "    # Write to CSV files\n",
    "    new_d_pred_real_epochs = np.array(d_pred_real_epochs).reshape(600,100)\n",
    "    K = [np.mean(new_d_pred_real_epochs[i]) for i in range(600)]\n",
    "    writeCSV('d_pred_real.csv', K)\n",
    "    \n",
    "    del d_pred_real_epochs\n",
    "    del new_d_pred_real_epochs\n",
    "    del K\n",
    "    \n",
    "    new_d_pred_fake_epochs = np.array(d_pred_fake_epochs).reshape(600,100)\n",
    "    K = [np.mean(new_d_pred_fake_epochs[i]) for i in range(600)]\n",
    "    writeCSV('d_pred_fake.csv', K)\n",
    "    \n",
    "    del d_pred_fake_epochs\n",
    "    del new_d_pred_fake_epochs\n",
    "    del K\n",
    "    \n",
    "    new_d_error_epochs = np.array(d_error_epochs).reshape(600)\n",
    "    writeCSV('d_error.csv', d_error_epochs[0])\n",
    "    \n",
    "    del d_error_epochs\n",
    "    del new_d_error_epochs\n",
    "    \n",
    "    new_g_error_epochs = np.array(g_error_epochs).reshape(600)\n",
    "    writeCSV('g_error.csv', g_error_epochs[0])\n",
    "    \n",
    "    del g_error_epochs\n",
    "    del new_g_error_epochs\n",
    "    \n",
    "    del real_data\n",
    "    del fake_data\n",
    "    del d_error\n",
    "    del d_pred_real\n",
    "    del d_pred_fake\n",
    "    del test_images\n",
    "    del g_error\n",
    "    del g_error_batches\n",
    "    del d_error_batches\n",
    "    del d_pred_real_batches\n",
    "    del d_pred_fake_batches\n",
    "\n",
    "    \n",
    "clearCSV('g_error.csv')\n",
    "clearCSV('d_error.csv')\n",
    "clearCSV('d_pred_fake.csv')\n",
    "clearCSV('d_pred_real.csv')"
   ]
  },
  {
   "cell_type": "code",
   "execution_count": 22,
   "metadata": {},
   "outputs": [],
   "source": [
    "# np.array(d_error_epochs).reshape(600)"
   ]
  },
  {
   "cell_type": "code",
   "execution_count": 23,
   "metadata": {},
   "outputs": [],
   "source": [
    "# new_d_pred_real_epochs = np.array(d_pred_real_epochs).reshape(600,100)\n",
    "# K = [np.mean(new_d_pred_real_epochs[i]) for i in range(600)]\n",
    "# K = np.array(K)"
   ]
  },
  {
   "cell_type": "code",
   "execution_count": 24,
   "metadata": {},
   "outputs": [],
   "source": [
    "# K.shape"
   ]
  },
  {
   "cell_type": "code",
   "execution_count": 25,
   "metadata": {},
   "outputs": [],
   "source": [
    "# writeCSV('test.csv', K)"
   ]
  },
  {
   "cell_type": "code",
   "execution_count": 26,
   "metadata": {},
   "outputs": [],
   "source": [
    "# plt.plot(K)"
   ]
  },
  {
   "cell_type": "code",
   "execution_count": 27,
   "metadata": {},
   "outputs": [],
   "source": [
    "# %config InlineBackend.figure_format = 'svg'\n",
    "\n",
    "# params = {'figure.figsize': [5, 5],\n",
    "#     'axes.labelsize': 20,\n",
    "#     'axes.titlesize':24,\n",
    "#     'font.size': 20,\n",
    "#     'legend.fontsize': 16,\n",
    "#     'xtick.labelsize': 16,\n",
    "#     'ytick.labelsize': 16\n",
    "# }\n",
    "# plt.rcParams.update(params)"
   ]
  },
  {
   "cell_type": "code",
   "execution_count": 28,
   "metadata": {},
   "outputs": [],
   "source": [
    "# len(d_pred_real_epochs)"
   ]
  },
  {
   "cell_type": "code",
   "execution_count": 29,
   "metadata": {},
   "outputs": [],
   "source": [
    "# d_error_batches_array = np.array(d_error_batches)\n",
    "# d_error_batches_array.shape"
   ]
  },
  {
   "cell_type": "code",
   "execution_count": 30,
   "metadata": {},
   "outputs": [],
   "source": [
    "# d_error_epochs_array = np.array(d_error_epochs)\n",
    "# d_error_epochs_array.shape"
   ]
  },
  {
   "cell_type": "code",
   "execution_count": 31,
   "metadata": {},
   "outputs": [],
   "source": [
    "# g_error_batches_array = np.array(g_error_batches)\n",
    "# g_error_batches_array.shape"
   ]
  },
  {
   "cell_type": "code",
   "execution_count": 32,
   "metadata": {},
   "outputs": [],
   "source": [
    "# g_error_epochs_array = np.array(g_error_epochs)\n",
    "# g_error_epochs_array.shape"
   ]
  },
  {
   "cell_type": "code",
   "execution_count": 33,
   "metadata": {},
   "outputs": [],
   "source": [
    "# d_pred_real_epochs_array = np.array(d_pred_real_epochs)\n",
    "# d_pred_real_epochs_array.shape"
   ]
  },
  {
   "cell_type": "code",
   "execution_count": 34,
   "metadata": {},
   "outputs": [],
   "source": [
    "# d_pred_fake_epochs_array = np.array(d_pred_fake_epochs)\n",
    "# d_pred_fake_epochs_array.shape"
   ]
  },
  {
   "cell_type": "code",
   "execution_count": 35,
   "metadata": {},
   "outputs": [],
   "source": [
    "# new_d_pred_real_epochs_array = d_pred_real_epochs_array.reshape((200, 600, 100))\n",
    "# new_d_pred_fake_epochs_array = d_pred_fake_epochs_array.reshape((200, 600, 100))\n",
    "\n",
    "# prob_real = []\n",
    "# for i in new_d_pred_real_epochs_array:\n",
    "#     tmpReal = []\n",
    "#     for j in i:\n",
    "#         tmpReal.append(j[0])\n",
    "#     prob_real.append(np.mean(tmpReal))\n",
    "# prob_real = np.array(prob_real)\n",
    "\n",
    "# prob_fake = []\n",
    "# for i in new_d_pred_fake_epochs_array:\n",
    "#     tmpFake = []\n",
    "#     for j in i:\n",
    "#         tmpFake.append(j[0])\n",
    "#     prob_fake.append(np.mean(tmpFake))\n",
    "# prob_fake = np.array(prob_fake)"
   ]
  },
  {
   "cell_type": "code",
   "execution_count": 36,
   "metadata": {},
   "outputs": [],
   "source": [
    "# plt.figure(figsize=(10,5))\n",
    "# plt.plot(np.linspace(prob_real.shape[0] + ((N_RUN-2) * num_epochs), prob_real.shape[0] + ((N_RUN-1) * num_epochs) - 1,prob_real.shape[0]), prob_real, LineWidth=3, label='real')\n",
    "# plt.plot(np.linspace(prob_fake.shape[0] + ((N_RUN-2) * num_epochs), prob_fake.shape[0] + ((N_RUN-1) * num_epochs) - 1,prob_fake.shape[0]), prob_fake, LineWidth=3, label='fake')\n",
    "# plt.xlabel('Epoch')\n",
    "# plt.ylabel('Probability')\n",
    "# plt.xlim(0, 200)\n",
    "# plt.ylim(0,1)\n",
    "# plt.xticks([0, 50, 100, 150, 200])\n",
    "# plt.yticks([0, 0.25, 0.5, 0.75, 1])\n",
    "# plt.grid(True)\n",
    "# plt.legend()\n",
    "# plt.savefig('uncertainty_' + str(N_RUN * 200) + '.pdf', format='pdf', dpi=300, bbox_inches='tight')\n",
    "# plt.show()"
   ]
  },
  {
   "cell_type": "code",
   "execution_count": 37,
   "metadata": {},
   "outputs": [],
   "source": [
    "# d_pred_fake_epochs_array = np.array(d_pred_fake_epochs)\n",
    "# d_pred_fake_epochs_array.shape"
   ]
  },
  {
   "cell_type": "code",
   "execution_count": 38,
   "metadata": {},
   "outputs": [],
   "source": [
    "# d_pred_real_array = np.array(d_pred_real.tolist())\n",
    "# d_pred_real_array = d_pred_real_array.reshape(d_pred_real_array.shape[0])\n",
    "\n",
    "# d_pred_fake_array = np.array(d_pred_fake.tolist())\n",
    "# d_pred_fake_array = d_pred_fake_array.reshape(d_pred_fake_array.shape[0])"
   ]
  },
  {
   "cell_type": "code",
   "execution_count": 39,
   "metadata": {},
   "outputs": [],
   "source": [
    "# csvfile = \"d_error_\" + str(N_RUN * num_epochs) + \".csv\"\n",
    "# with open(csvfile, \"w\") as output:\n",
    "#     writer = csv.writer(output, lineterminator='\\n')\n",
    "#     writer.writerows(d_error_epochs)"
   ]
  },
  {
   "cell_type": "code",
   "execution_count": 40,
   "metadata": {},
   "outputs": [],
   "source": [
    "# csvfile = \"g_error_\" + str(N_RUN * num_epochs) + \".csv\"\n",
    "# with open(csvfile, \"w\") as output:\n",
    "#     writer = csv.writer(output, lineterminator='\\n')\n",
    "#     writer.writerows(g_error_epochs)"
   ]
  },
  {
   "cell_type": "code",
   "execution_count": 41,
   "metadata": {},
   "outputs": [],
   "source": [
    "# csvfile = \"d_pred_real_\" + str(N_RUN * num_epochs) + \".csv\"\n",
    "# with open(csvfile, \"w\") as output:\n",
    "#     writer = csv.writer(output, lineterminator='\\n')\n",
    "#     for val in d_pred_real:\n",
    "#         writer.writerow([val])"
   ]
  },
  {
   "cell_type": "code",
   "execution_count": 42,
   "metadata": {},
   "outputs": [],
   "source": [
    "# csvfile = \"d_pred_fake_\" + str(N_RUN * num_epochs) + \".csv\"\n",
    "# with open(csvfile, \"w\") as output:\n",
    "#     writer = csv.writer(output, lineterminator='\\n')\n",
    "#     for val in d_pred_fake:\n",
    "#         writer.writerow([val])"
   ]
  },
  {
   "cell_type": "code",
   "execution_count": 43,
   "metadata": {},
   "outputs": [],
   "source": [
    "# d_error_epochs_array = np.array(d_error_epochs)\n",
    "# new_d_error_epochs_array = np.array([np.mean(d_error_epochs_array[i,:]) for i in range(d_error_epochs_array.shape[0])])\n",
    "\n",
    "# g_error_epochs_array = np.array(g_error_epochs)\n",
    "# new_g_error_epochs_array = np.array([np.mean(g_error_epochs_array[i,:]) for i in range(g_error_epochs_array.shape[0])])"
   ]
  },
  {
   "cell_type": "code",
   "execution_count": 44,
   "metadata": {},
   "outputs": [],
   "source": [
    "# plt.figure(figsize=(8,5))\n",
    "# plt.plot(range(d_error_epochs_array.shape[0]), new_d_error_epochs_array, LineWidth=3, label='discriminator')\n",
    "# plt.plot(range(g_error_epochs_array.shape[0]), new_g_error_epochs_array, LineWidth=3, label='generator')\n",
    "# plt.xlabel('Epoch')\n",
    "# plt.ylabel('Loss')\n",
    "# plt.xlim(0, 200)\n",
    "# plt.ylim(0, 6)\n",
    "# plt.xticks([0, 50, 100, 150, 200])\n",
    "# plt.yticks([0, 1, 2, 3, 4, 5, 6])\n",
    "# plt.grid(True)\n",
    "# plt.legend()\n",
    "# plt.savefig('loss_' + str(N_RUN * num_epochs) + '.pdf', format='pdf', dpi=300, bbox_inches='tight')\n",
    "# plt.show()"
   ]
  },
  {
   "cell_type": "code",
   "execution_count": 45,
   "metadata": {},
   "outputs": [],
   "source": [
    "# plt.figure(figsize=(8,5))\n",
    "# plt.plot(range(d_pred_real_array.shape[0]), d_pred_real_array, LineWidth=3, label='real')\n",
    "# plt.plot(range(d_pred_fake_array.shape[0]), d_pred_fake_array, LineWidth=3, label='fake')\n",
    "# plt.xlabel('Epoch')\n",
    "# plt.ylabel('Uncertainty')\n",
    "# plt.xlim(0,200)\n",
    "# plt.grid(True)\n",
    "# plt.legend()\n",
    "# plt.savefig('uncertainty_' + str(N_RUN * num_epochs) + '.pdf', format='pdf', dpi=300, bbox_inches='tight')\n",
    "# plt.show()"
   ]
  },
  {
   "cell_type": "code",
   "execution_count": 46,
   "metadata": {},
   "outputs": [],
   "source": [
    "# new_timing = []\n",
    "# new_timing_mean = []\n",
    "# new_timing_sum = []\n",
    "\n",
    "# for i in range(int(len(timing)/6)):\n",
    "#     new_timing.append(timing[i:i+6])\n",
    "#     new_timing_mean.append(np.mean(timing[i:i+6]))\n",
    "#     new_timing_sum.append(np.sum(timing[i:i+6]))\n",
    "    \n",
    "# new_timing = np.array(new_timing)\n",
    "# new_timing_mean = np.array(new_timing_mean)\n",
    "# new_timing_sum = np.array(new_timing_sum)"
   ]
  },
  {
   "cell_type": "code",
   "execution_count": 47,
   "metadata": {},
   "outputs": [],
   "source": [
    "# plt.figure(figsize=(8,5))\n",
    "# plt.plot(range(new_timing_mean.shape[0]), new_timing_mean, LineWidth=3, label='Mean Epoch Time')\n",
    "# plt.plot(range(new_timing_sum.shape[0]), new_timing_sum, LineWidth=3, label='Total Epoch Time' )\n",
    "# plt.legend()\n",
    "# plt.xlabel('Epoch')\n",
    "# plt.ylabel('Processing Time [s]')\n",
    "# plt.xlim(0,200)\n",
    "# plt.ylim(0, 20000)\n",
    "# plt.xticks([0, 50, 100, 150, 200])\n",
    "# plt.yticks([0, 5000, 10000, 15000, 20000])\n",
    "# plt.grid(True)\n",
    "# plt.savefig('timing_' + str(N_RUN * num_epochs) + '.pdf', format='pdf', dpi=300, bbox_inches='tight')\n",
    "# plt.show()"
   ]
  },
  {
   "cell_type": "code",
   "execution_count": 48,
   "metadata": {},
   "outputs": [],
   "source": [
    "# new_timing_mean.shape"
   ]
  },
  {
   "cell_type": "code",
   "execution_count": 49,
   "metadata": {},
   "outputs": [],
   "source": [
    "# T = [0]\n",
    "# T_tmp = [new_timing_mean[i+1] - new_timing_mean[i] for i in range(new_timing_mean.shape[0]-1)]\n",
    "# T.extend(T_tmp)\n",
    "# T = np.array(T)\n",
    "\n",
    "# csvfile = \"T_\" + str(N_RUN * num_epochs) + \".csv\"\n",
    "# with open(csvfile, \"w\") as output:\n",
    "#     writer = csv.writer(output, lineterminator='\\n')\n",
    "#     for val in T:\n",
    "#         writer.writerow([val])"
   ]
  },
  {
   "cell_type": "code",
   "execution_count": 50,
   "metadata": {},
   "outputs": [],
   "source": [
    "# plt.figure(figsize=(8,5))\n",
    "# plt.plot(range(T.shape[0]), T, LineWidth=3, label='Processing Time')\n",
    "# plt.hlines(np.mean(T), xmin=0, xmax=200, LineWidth=3, color='r', label='Mean (%.2f s)'%np.mean(T))\n",
    "# plt.legend()\n",
    "# plt.xlabel('Epoch')\n",
    "# plt.ylabel('Processing Time [s]')\n",
    "# plt.xlim(0,200)\n",
    "# plt.ylim(0, 20)\n",
    "# plt.xticks([0, 50, 100, 150, 200])\n",
    "# plt.yticks([0, 5, 10, 15, 20])\n",
    "# plt.grid(True)\n",
    "# plt.savefig('T_' + str(N_RUN * num_epochs) + '.pdf', format='pdf', dpi=300, bbox_inches='tight')\n",
    "# plt.show()"
   ]
  }
 ],
 "metadata": {
  "kernelspec": {
   "display_name": "Python 3",
   "language": "python",
   "name": "python3"
  },
  "language_info": {
   "codemirror_mode": {
    "name": "ipython",
    "version": 3
   },
   "file_extension": ".py",
   "mimetype": "text/x-python",
   "name": "python",
   "nbconvert_exporter": "python",
   "pygments_lexer": "ipython3",
   "version": "3.6.7"
  }
 },
 "nbformat": 4,
 "nbformat_minor": 2
}
