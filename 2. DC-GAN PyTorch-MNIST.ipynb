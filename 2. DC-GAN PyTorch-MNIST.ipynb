{
 "cells": [
  {
   "cell_type": "code",
   "execution_count": 1,
   "metadata": {},
   "outputs": [],
   "source": [
    "from IPython import display\n",
    "\n",
    "from utils import Logger\n",
    "\n",
    "import torch\n",
    "from torch import nn\n",
    "from torch.optim import Adam\n",
    "from torch.autograd import Variable\n",
    "\n",
    "from torchvision import transforms, datasets\n",
    "\n",
    "from pytictoc import TicToc\n",
    "import datetime\n",
    "\n",
    "import numpy as np\n",
    "import matplotlib.pyplot as plt\n",
    "\n",
    "import csv"
   ]
  },
  {
   "cell_type": "code",
   "execution_count": 2,
   "metadata": {},
   "outputs": [],
   "source": [
    "%config InlineBackend.figure_format = 'svg'\n",
    "\n",
    "params = {'figure.figsize': [5, 5],\n",
    "    'axes.labelsize': 20,\n",
    "    'axes.titlesize':24,\n",
    "    'font.size': 20,\n",
    "    'legend.fontsize': 16,\n",
    "    'xtick.labelsize': 16,\n",
    "    'ytick.labelsize': 16\n",
    "}\n",
    "plt.rcParams.update(params)"
   ]
  },
  {
   "cell_type": "code",
   "execution_count": 3,
   "metadata": {},
   "outputs": [],
   "source": [
    "DATA_FOLDER = './torch_data/DCGAN/MNIST'"
   ]
  },
  {
   "cell_type": "code",
   "execution_count": 4,
   "metadata": {},
   "outputs": [],
   "source": [
    "CONTINUE_TRAINING = False"
   ]
  },
  {
   "cell_type": "code",
   "execution_count": 5,
   "metadata": {},
   "outputs": [],
   "source": [
    "N_RUN = 1"
   ]
  },
  {
   "cell_type": "code",
   "execution_count": 6,
   "metadata": {},
   "outputs": [],
   "source": [
    "# Number of epochs\n",
    "num_epochs = 200"
   ]
  },
  {
   "cell_type": "markdown",
   "metadata": {},
   "source": [
    "## Load Data"
   ]
  },
  {
   "cell_type": "code",
   "execution_count": 7,
   "metadata": {},
   "outputs": [],
   "source": [
    "def mnist_data():\n",
    "    compose = transforms.Compose(\n",
    "        [\n",
    "            transforms.Resize(64),\n",
    "            transforms.ToTensor(),\n",
    "            transforms.Normalize((.5,), (.5,))\n",
    "        ])\n",
    "    out_dir = '{}/dataset'.format(DATA_FOLDER)\n",
    "    return datasets.MNIST(root=out_dir, train=True, transform=compose, download=True)"
   ]
  },
  {
   "cell_type": "code",
   "execution_count": 8,
   "metadata": {},
   "outputs": [],
   "source": [
    "data = mnist_data()\n",
    "batch_size = 100\n",
    "data_loader = torch.utils.data.DataLoader(data, batch_size=batch_size, shuffle=True)\n",
    "num_batches = len(data_loader)"
   ]
  },
  {
   "cell_type": "markdown",
   "metadata": {},
   "source": [
    "## Networks"
   ]
  },
  {
   "cell_type": "code",
   "execution_count": 9,
   "metadata": {},
   "outputs": [],
   "source": [
    "if CONTINUE_TRAINING:\n",
    "    pretrained_model_D = \"data/models/DCGAN/MNIST/D_epoch_\" + str((N_RUN-1) * num_epochs - 1)\n",
    "    pretrained_model_G = \"data/models/DCGAN/MNIST/G_epoch_\" + str((N_RUN-1) * num_epochs - 1)"
   ]
  },
  {
   "cell_type": "code",
   "execution_count": 10,
   "metadata": {},
   "outputs": [],
   "source": [
    "class DiscriminativeNet(torch.nn.Module):\n",
    "    \n",
    "    def __init__(self):\n",
    "        super(DiscriminativeNet, self).__init__()\n",
    "        \n",
    "        self.conv1 = nn.Sequential(\n",
    "            nn.Conv2d(\n",
    "                in_channels=1, out_channels=128, kernel_size=4, \n",
    "                stride=2, padding=1, bias=False\n",
    "            ),\n",
    "            nn.LeakyReLU(0.2, inplace=True)\n",
    "        )\n",
    "        self.conv2 = nn.Sequential(\n",
    "            nn.Conv2d(\n",
    "                in_channels=128, out_channels=256, kernel_size=4,\n",
    "                stride=2, padding=1, bias=False\n",
    "            ),\n",
    "            nn.BatchNorm2d(256),\n",
    "            nn.LeakyReLU(0.2, inplace=True)\n",
    "        )\n",
    "        self.conv3 = nn.Sequential(\n",
    "            nn.Conv2d(\n",
    "                in_channels=256, out_channels=512, kernel_size=4,\n",
    "                stride=2, padding=1, bias=False\n",
    "            ),\n",
    "            nn.BatchNorm2d(512),\n",
    "            nn.LeakyReLU(0.2, inplace=True)\n",
    "        )\n",
    "        self.conv4 = nn.Sequential(\n",
    "            nn.Conv2d(\n",
    "                in_channels=512, out_channels=1024, kernel_size=4,\n",
    "                stride=2, padding=1, bias=False\n",
    "            ),\n",
    "            nn.BatchNorm2d(1024),\n",
    "            nn.LeakyReLU(0.2, inplace=True)\n",
    "        )\n",
    "        self.out = nn.Sequential(\n",
    "            nn.Linear(1024*4*4, 1),\n",
    "            nn.Sigmoid(),\n",
    "        )\n",
    "\n",
    "    def forward(self, x):\n",
    "        # Convolutional layers\n",
    "        x = self.conv1(x)\n",
    "        x = self.conv2(x)\n",
    "        x = self.conv3(x)\n",
    "        x = self.conv4(x)\n",
    "        # Flatten and apply sigmoid\n",
    "        x = x.view(-1, 1024*4*4)\n",
    "        x = self.out(x)\n",
    "        return x"
   ]
  },
  {
   "cell_type": "code",
   "execution_count": 11,
   "metadata": {},
   "outputs": [],
   "source": [
    "class GenerativeNet(torch.nn.Module):\n",
    "    \n",
    "    def __init__(self):\n",
    "        super(GenerativeNet, self).__init__()\n",
    "        \n",
    "        self.linear = torch.nn.Linear(100, 1024*4*4)\n",
    "        \n",
    "        self.conv1 = nn.Sequential(\n",
    "            nn.ConvTranspose2d(\n",
    "                in_channels=1024, out_channels=512, kernel_size=4,\n",
    "                stride=2, padding=1, bias=False\n",
    "            ),\n",
    "            nn.BatchNorm2d(512),\n",
    "            nn.ReLU(inplace=True)\n",
    "        )\n",
    "        self.conv2 = nn.Sequential(\n",
    "            nn.ConvTranspose2d(\n",
    "                in_channels=512, out_channels=256, kernel_size=4,\n",
    "                stride=2, padding=1, bias=False\n",
    "            ),\n",
    "            nn.BatchNorm2d(256),\n",
    "            nn.ReLU(inplace=True)\n",
    "        )\n",
    "        self.conv3 = nn.Sequential(\n",
    "            nn.ConvTranspose2d(\n",
    "                in_channels=256, out_channels=128, kernel_size=4,\n",
    "                stride=2, padding=1, bias=False\n",
    "            ),\n",
    "            nn.BatchNorm2d(128),\n",
    "            nn.ReLU(inplace=True)\n",
    "        )\n",
    "        self.conv4 = nn.Sequential(\n",
    "            nn.ConvTranspose2d(\n",
    "                in_channels=128, out_channels=1, kernel_size=4,\n",
    "                stride=2, padding=1, bias=False\n",
    "            )\n",
    "        )\n",
    "        self.out = torch.nn.Tanh()\n",
    "\n",
    "    def forward(self, x):\n",
    "        # Project and reshape\n",
    "        x = self.linear(x)\n",
    "        x = x.view(x.shape[0], 1024, 4, 4)\n",
    "        # Convolutional layers\n",
    "        x = self.conv1(x)\n",
    "        x = self.conv2(x)\n",
    "        x = self.conv3(x)\n",
    "        x = self.conv4(x)\n",
    "        # Apply Tanh\n",
    "        return self.out(x)\n",
    "    \n",
    "# Noise\n",
    "def noise(size):\n",
    "    n = Variable(torch.randn(size, 100))\n",
    "    if torch.cuda.is_available(): return n.cuda()\n",
    "    return n"
   ]
  },
  {
   "cell_type": "code",
   "execution_count": 12,
   "metadata": {},
   "outputs": [],
   "source": [
    "def init_weights(m):\n",
    "    classname = m.__class__.__name__\n",
    "    if classname.find('Conv') != -1 or classname.find('BatchNorm') != -1:\n",
    "        m.weight.data.normal_(0.00, 0.02)"
   ]
  },
  {
   "cell_type": "code",
   "execution_count": 13,
   "metadata": {},
   "outputs": [
    {
     "name": "stdout",
     "output_type": "stream",
     "text": [
      "CUDA Available:  True\n"
     ]
    }
   ],
   "source": [
    "use_cuda = True\n",
    "\n",
    "print(\"CUDA Available: \",torch.cuda.is_available())\n",
    "device = torch.device(\"cuda\" if (use_cuda and torch.cuda.is_available()) else \"cpu\")"
   ]
  },
  {
   "cell_type": "code",
   "execution_count": 14,
   "metadata": {},
   "outputs": [
    {
     "name": "stderr",
     "output_type": "stream",
     "text": [
      "/home/tito/anaconda3/lib/python3.6/site-packages/torch/cuda/__init__.py:116: UserWarning: \n",
      "    Found GPU1 GeForce GT 640 which is of cuda capability 3.0.\n",
      "    PyTorch no longer supports this GPU because it is too old.\n",
      "    \n",
      "  warnings.warn(old_gpu_warn % (d, name, major, capability[1]))\n"
     ]
    }
   ],
   "source": [
    "# Create Network instances and init weights\n",
    "generator = GenerativeNet().to(device)\n",
    "generator.apply(init_weights)\n",
    "if CONTINUE_TRAINING:\n",
    "    discriminator.load_state_dict(torch.load(pretrained_model_D, map_location='cuda'))\n",
    "\n",
    "discriminator = DiscriminativeNet().to(device)\n",
    "discriminator.apply(init_weights)\n",
    "if CONTINUE_TRAINING:\n",
    "    generator.load_state_dict(torch.load(pretrained_model_G, map_location='cuda'))\n",
    "\n",
    "# Enable cuda if available\n",
    "if torch.cuda.is_available():\n",
    "    generator.cuda()\n",
    "    discriminator.cuda()"
   ]
  },
  {
   "cell_type": "markdown",
   "metadata": {},
   "source": [
    "## Optimization"
   ]
  },
  {
   "cell_type": "code",
   "execution_count": 15,
   "metadata": {},
   "outputs": [],
   "source": [
    "# Optimizers\n",
    "d_optimizer = Adam(discriminator.parameters(), lr=0.0002, betas=(0.5, 0.999))\n",
    "g_optimizer = Adam(generator.parameters(), lr=0.0002, betas=(0.5, 0.999))\n",
    "\n",
    "# Loss function\n",
    "loss = nn.BCELoss()"
   ]
  },
  {
   "cell_type": "markdown",
   "metadata": {},
   "source": [
    "## Training"
   ]
  },
  {
   "cell_type": "code",
   "execution_count": 16,
   "metadata": {},
   "outputs": [],
   "source": [
    "def real_data_target(size):\n",
    "    '''\n",
    "    Tensor containing ones, with shape = size\n",
    "    '''\n",
    "    data = Variable(torch.ones(size, 1))\n",
    "    if torch.cuda.is_available(): return data.cuda()\n",
    "    return data\n",
    "\n",
    "def fake_data_target(size):\n",
    "    '''\n",
    "    Tensor containing zeros, with shape = size\n",
    "    '''\n",
    "    data = Variable(torch.zeros(size, 1))\n",
    "    if torch.cuda.is_available(): return data.cuda()\n",
    "    return data"
   ]
  },
  {
   "cell_type": "code",
   "execution_count": 17,
   "metadata": {},
   "outputs": [],
   "source": [
    "def train_discriminator(optimizer, real_data, fake_data):\n",
    "    # Reset gradients\n",
    "    optimizer.zero_grad()\n",
    "    \n",
    "    # 1. Train on Real Data\n",
    "    prediction_real = discriminator(real_data)\n",
    "    # Calculate error and backpropagate\n",
    "    error_real = loss(prediction_real, real_data_target(real_data.size(0)))\n",
    "    error_real.backward()\n",
    "\n",
    "    # 2. Train on Fake Data\n",
    "    prediction_fake = discriminator(fake_data)\n",
    "    # Calculate error and backpropagate\n",
    "    error_fake = loss(prediction_fake, fake_data_target(real_data.size(0)))\n",
    "    error_fake.backward()\n",
    "    \n",
    "    # Update weights with gradients\n",
    "    optimizer.step()\n",
    "    \n",
    "    return error_real + error_fake, prediction_real, prediction_fake\n",
    "    return (0, 0, 0)\n",
    "\n",
    "def train_generator(optimizer, fake_data):\n",
    "    # Reset gradients\n",
    "    optimizer.zero_grad()\n",
    "    # Sample noise and generate fake data\n",
    "    prediction = discriminator(fake_data)\n",
    "    # Calculate error and backpropagate\n",
    "    error = loss(prediction, real_data_target(prediction.size(0)))\n",
    "    error.backward()\n",
    "    # Update weights with gradients\n",
    "    optimizer.step()\n",
    "    # Return error\n",
    "    return error"
   ]
  },
  {
   "cell_type": "markdown",
   "metadata": {},
   "source": [
    "### Generate Samples for Testing"
   ]
  },
  {
   "cell_type": "code",
   "execution_count": 18,
   "metadata": {},
   "outputs": [],
   "source": [
    "num_test_samples = 16\n",
    "test_noise = noise(num_test_samples)"
   ]
  },
  {
   "cell_type": "markdown",
   "metadata": {},
   "source": [
    "### Start training"
   ]
  },
  {
   "cell_type": "code",
   "execution_count": 19,
   "metadata": {
    "scrolled": false
   },
   "outputs": [
    {
     "data": {
      "image/svg+xml": [
       "<?xml version=\"1.0\" encoding=\"utf-8\" standalone=\"no\"?>\n",
       "<!DOCTYPE svg PUBLIC \"-//W3C//DTD SVG 1.1//EN\"\n",
       "  \"http://www.w3.org/Graphics/SVG/1.1/DTD/svg11.dtd\">\n",
       "<!-- Created with matplotlib (https://matplotlib.org/) -->\n",
       "<svg height=\"267.848278pt\" version=\"1.1\" viewBox=\"0 0 944.74 267.848278\" width=\"944.74pt\" xmlns=\"http://www.w3.org/2000/svg\" xmlns:xlink=\"http://www.w3.org/1999/xlink\">\n",
       " <defs>\n",
       "  <style type=\"text/css\">\n",
       "*{stroke-linecap:butt;stroke-linejoin:round;}\n",
       "  </style>\n",
       " </defs>\n",
       " <g id=\"figure_1\">\n",
       "  <g id=\"patch_1\">\n",
       "   <path d=\"M 0 267.848278 \n",
       "L 944.74 267.848278 \n",
       "L 944.74 0 \n",
       "L 0 0 \n",
       "z\n",
       "\" style=\"fill:none;\"/>\n",
       "  </g>\n",
       "  <g id=\"axes_1\">\n",
       "   <g clip-path=\"url(#pc4795bbaf7)\">\n",
       "    <image height=\"226\" id=\"imaged0b144c000\" transform=\"scale(1 -1)translate(0 -226)\" width=\"893\" x=\"44.74\" xlink:href=\"data:image/png;base64,\n",
       "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\" y=\"-12.163278\"/>\n",
       "   </g>\n",
       "  </g>\n",
       " </g>\n",
       " <defs>\n",
       "  <clipPath id=\"pc4795bbaf7\">\n",
       "   <rect height=\"225.726792\" width=\"892.8\" x=\"44.74\" y=\"12.436486\"/>\n",
       "  </clipPath>\n",
       " </defs>\n",
       "</svg>\n"
      ],
      "text/plain": [
       "<Figure size 1152x1152 with 1 Axes>"
      ]
     },
     "metadata": {},
     "output_type": "display_data"
    },
    {
     "name": "stdout",
     "output_type": "stream",
     "text": [
      "Epoch: [61/200], Batch Num: [100/600]\n",
      "Discriminator Loss: 54.8659, Generator Loss: 60.4299\n",
      "D(x): 0.0000, D(G(z)): 0.0000\n",
      "Epoch 61, Batch 100 took \t 121.727290 seconds.\n",
      "Until now:\t 12:29:41.499106\n"
     ]
    },
    {
     "ename": "KeyboardInterrupt",
     "evalue": "",
     "output_type": "error",
     "traceback": [
      "\u001b[0;31m---------------------------------------------------------------------------\u001b[0m",
      "\u001b[0;31mKeyboardInterrupt\u001b[0m                         Traceback (most recent call last)",
      "\u001b[0;32m<timed exec>\u001b[0m in \u001b[0;36m<module>\u001b[0;34m\u001b[0m\n",
      "\u001b[0;32m~/github/gans/utils.py\u001b[0m in \u001b[0;36msave_models\u001b[0;34m(self, generator, discriminator, epoch)\u001b[0m\n\u001b[1;32m    116\u001b[0m         \u001b[0mLogger\u001b[0m\u001b[0;34m.\u001b[0m\u001b[0m_make_dir\u001b[0m\u001b[0;34m(\u001b[0m\u001b[0mout_dir\u001b[0m\u001b[0;34m)\u001b[0m\u001b[0;34m\u001b[0m\u001b[0m\n\u001b[1;32m    117\u001b[0m         torch.save(generator.state_dict(),\n\u001b[0;32m--> 118\u001b[0;31m                    '{}/G_epoch_{}'.format(out_dir, epoch))\n\u001b[0m\u001b[1;32m    119\u001b[0m         torch.save(discriminator.state_dict(),\n\u001b[1;32m    120\u001b[0m                    '{}/D_epoch_{}'.format(out_dir, epoch))\n",
      "\u001b[0;32m~/anaconda3/lib/python3.6/site-packages/torch/serialization.py\u001b[0m in \u001b[0;36msave\u001b[0;34m(obj, f, pickle_module, pickle_protocol)\u001b[0m\n\u001b[1;32m    207\u001b[0m         \u001b[0;34m>>\u001b[0m\u001b[0;34m>\u001b[0m \u001b[0mtorch\u001b[0m\u001b[0;34m.\u001b[0m\u001b[0msave\u001b[0m\u001b[0;34m(\u001b[0m\u001b[0mx\u001b[0m\u001b[0;34m,\u001b[0m \u001b[0mbuffer\u001b[0m\u001b[0;34m)\u001b[0m\u001b[0;34m\u001b[0m\u001b[0m\n\u001b[1;32m    208\u001b[0m     \"\"\"\n\u001b[0;32m--> 209\u001b[0;31m     \u001b[0;32mreturn\u001b[0m \u001b[0m_with_file_like\u001b[0m\u001b[0;34m(\u001b[0m\u001b[0mf\u001b[0m\u001b[0;34m,\u001b[0m \u001b[0;34m\"wb\"\u001b[0m\u001b[0;34m,\u001b[0m \u001b[0;32mlambda\u001b[0m \u001b[0mf\u001b[0m\u001b[0;34m:\u001b[0m \u001b[0m_save\u001b[0m\u001b[0;34m(\u001b[0m\u001b[0mobj\u001b[0m\u001b[0;34m,\u001b[0m \u001b[0mf\u001b[0m\u001b[0;34m,\u001b[0m \u001b[0mpickle_module\u001b[0m\u001b[0;34m,\u001b[0m \u001b[0mpickle_protocol\u001b[0m\u001b[0;34m)\u001b[0m\u001b[0;34m)\u001b[0m\u001b[0;34m\u001b[0m\u001b[0m\n\u001b[0m\u001b[1;32m    210\u001b[0m \u001b[0;34m\u001b[0m\u001b[0m\n\u001b[1;32m    211\u001b[0m \u001b[0;34m\u001b[0m\u001b[0m\n",
      "\u001b[0;32m~/anaconda3/lib/python3.6/site-packages/torch/serialization.py\u001b[0m in \u001b[0;36m_with_file_like\u001b[0;34m(f, mode, body)\u001b[0m\n\u001b[1;32m    132\u001b[0m         \u001b[0mf\u001b[0m \u001b[0;34m=\u001b[0m \u001b[0mopen\u001b[0m\u001b[0;34m(\u001b[0m\u001b[0mf\u001b[0m\u001b[0;34m,\u001b[0m \u001b[0mmode\u001b[0m\u001b[0;34m)\u001b[0m\u001b[0;34m\u001b[0m\u001b[0m\n\u001b[1;32m    133\u001b[0m     \u001b[0;32mtry\u001b[0m\u001b[0;34m:\u001b[0m\u001b[0;34m\u001b[0m\u001b[0m\n\u001b[0;32m--> 134\u001b[0;31m         \u001b[0;32mreturn\u001b[0m \u001b[0mbody\u001b[0m\u001b[0;34m(\u001b[0m\u001b[0mf\u001b[0m\u001b[0;34m)\u001b[0m\u001b[0;34m\u001b[0m\u001b[0m\n\u001b[0m\u001b[1;32m    135\u001b[0m     \u001b[0;32mfinally\u001b[0m\u001b[0;34m:\u001b[0m\u001b[0;34m\u001b[0m\u001b[0m\n\u001b[1;32m    136\u001b[0m         \u001b[0;32mif\u001b[0m \u001b[0mnew_fd\u001b[0m\u001b[0;34m:\u001b[0m\u001b[0;34m\u001b[0m\u001b[0m\n",
      "\u001b[0;32m~/anaconda3/lib/python3.6/site-packages/torch/serialization.py\u001b[0m in \u001b[0;36m<lambda>\u001b[0;34m(f)\u001b[0m\n\u001b[1;32m    207\u001b[0m         \u001b[0;34m>>\u001b[0m\u001b[0;34m>\u001b[0m \u001b[0mtorch\u001b[0m\u001b[0;34m.\u001b[0m\u001b[0msave\u001b[0m\u001b[0;34m(\u001b[0m\u001b[0mx\u001b[0m\u001b[0;34m,\u001b[0m \u001b[0mbuffer\u001b[0m\u001b[0;34m)\u001b[0m\u001b[0;34m\u001b[0m\u001b[0m\n\u001b[1;32m    208\u001b[0m     \"\"\"\n\u001b[0;32m--> 209\u001b[0;31m     \u001b[0;32mreturn\u001b[0m \u001b[0m_with_file_like\u001b[0m\u001b[0;34m(\u001b[0m\u001b[0mf\u001b[0m\u001b[0;34m,\u001b[0m \u001b[0;34m\"wb\"\u001b[0m\u001b[0;34m,\u001b[0m \u001b[0;32mlambda\u001b[0m \u001b[0mf\u001b[0m\u001b[0;34m:\u001b[0m \u001b[0m_save\u001b[0m\u001b[0;34m(\u001b[0m\u001b[0mobj\u001b[0m\u001b[0;34m,\u001b[0m \u001b[0mf\u001b[0m\u001b[0;34m,\u001b[0m \u001b[0mpickle_module\u001b[0m\u001b[0;34m,\u001b[0m \u001b[0mpickle_protocol\u001b[0m\u001b[0;34m)\u001b[0m\u001b[0;34m)\u001b[0m\u001b[0;34m\u001b[0m\u001b[0m\n\u001b[0m\u001b[1;32m    210\u001b[0m \u001b[0;34m\u001b[0m\u001b[0m\n\u001b[1;32m    211\u001b[0m \u001b[0;34m\u001b[0m\u001b[0m\n",
      "\u001b[0;32m~/anaconda3/lib/python3.6/site-packages/torch/serialization.py\u001b[0m in \u001b[0;36m_save\u001b[0;34m(obj, f, pickle_module, pickle_protocol)\u001b[0m\n\u001b[1;32m    286\u001b[0m     \u001b[0mf\u001b[0m\u001b[0;34m.\u001b[0m\u001b[0mflush\u001b[0m\u001b[0;34m(\u001b[0m\u001b[0;34m)\u001b[0m\u001b[0;34m\u001b[0m\u001b[0m\n\u001b[1;32m    287\u001b[0m     \u001b[0;32mfor\u001b[0m \u001b[0mkey\u001b[0m \u001b[0;32min\u001b[0m \u001b[0mserialized_storage_keys\u001b[0m\u001b[0;34m:\u001b[0m\u001b[0;34m\u001b[0m\u001b[0m\n\u001b[0;32m--> 288\u001b[0;31m         \u001b[0mserialized_storages\u001b[0m\u001b[0;34m[\u001b[0m\u001b[0mkey\u001b[0m\u001b[0;34m]\u001b[0m\u001b[0;34m.\u001b[0m\u001b[0m_write_file\u001b[0m\u001b[0;34m(\u001b[0m\u001b[0mf\u001b[0m\u001b[0;34m,\u001b[0m \u001b[0m_should_read_directly\u001b[0m\u001b[0;34m(\u001b[0m\u001b[0mf\u001b[0m\u001b[0;34m)\u001b[0m\u001b[0;34m)\u001b[0m\u001b[0;34m\u001b[0m\u001b[0m\n\u001b[0m\u001b[1;32m    289\u001b[0m \u001b[0;34m\u001b[0m\u001b[0m\n\u001b[1;32m    290\u001b[0m \u001b[0;34m\u001b[0m\u001b[0m\n",
      "\u001b[0;31mKeyboardInterrupt\u001b[0m: "
     ]
    }
   ],
   "source": [
    "%%time\n",
    "\n",
    "t = TicToc()\n",
    "\n",
    "t.tic()\n",
    "\n",
    "TV = 0\n",
    "timing = []\n",
    "\n",
    "logger = Logger(model_name='DCGAN', data_name='MNIST')\n",
    "\n",
    "d_error_epochs = []\n",
    "g_error_epochs = []\n",
    "d_pred_real_epochs = []\n",
    "d_pred_fake_epochs = []\n",
    "\n",
    "for epoch in range((N_RUN-1) * num_epochs, (N_RUN-1) * num_epochs + num_epochs):\n",
    "    \n",
    "    d_error_batches = []\n",
    "    g_error_batches = []\n",
    "    d_pred_real_batches = []\n",
    "    d_pred_fake_batches = []\n",
    "    \n",
    "    for n_batch, (real_batch,_) in enumerate(data_loader):\n",
    "        \n",
    "        # 1. Train Discriminator\n",
    "        real_data = Variable(real_batch)\n",
    "        if torch.cuda.is_available(): real_data = real_data.cuda()\n",
    "        # Generate fake data\n",
    "        fake_data = generator(noise(real_data.size(0))).detach()\n",
    "        # Train D\n",
    "        d_error, d_pred_real, d_pred_fake = train_discriminator(d_optimizer, \n",
    "                                                                real_data, fake_data)\n",
    "\n",
    "        # 2. Train Generator\n",
    "        # Generate fake data\n",
    "        fake_data = generator(noise(real_batch.size(0)))\n",
    "        # Train G\n",
    "        g_error = train_generator(g_optimizer, fake_data)\n",
    "        # Log error\n",
    "        logger.log(d_error, g_error, epoch, n_batch, num_batches)\n",
    "        \n",
    "        # Display Progress\n",
    "        if (n_batch) % 100 == 0:\n",
    "            display.clear_output(True)\n",
    "            # Display Images\n",
    "            test_images = generator(test_noise).data.cpu()\n",
    "            logger.log_images(test_images, num_test_samples, epoch, n_batch, num_batches);\n",
    "            # Display status Logs\n",
    "            logger.display_status(\n",
    "                epoch, num_epochs * N_RUN, n_batch, num_batches,\n",
    "                float(d_error), float(g_error), d_pred_real, d_pred_fake\n",
    "            )\n",
    "            \n",
    "            TV = TV + t.tocvalue()\n",
    "            t.toc('Epoch %d, Batch %d took \\t' % (epoch, n_batch), restart=True)\n",
    "            print(\"Until now:\\t {:0>8}\".format(str(datetime.timedelta(seconds=TV))))\n",
    "            \n",
    "            timing.append(TV)\n",
    "            \n",
    "        d_error_batches.append(d_error.tolist())\n",
    "        g_error_batches.append(g_error.tolist())\n",
    "        d_pred_real_batches.append(d_pred_real.data.tolist())\n",
    "        d_pred_fake_batches.append(d_pred_fake.data.tolist())\n",
    "        \n",
    "        # Model Checkpoints\n",
    "        logger.save_models(generator, discriminator, epoch)\n",
    "    \n",
    "    d_error_epochs.append(d_error_batches)\n",
    "    g_error_epochs.append(g_error_batches)\n",
    "    d_pred_real_epochs.append(d_pred_real_batches)\n",
    "    d_pred_fake_epochs.append(d_pred_fake_batches)"
   ]
  },
  {
   "cell_type": "code",
   "execution_count": 20,
   "metadata": {},
   "outputs": [
    {
     "data": {
      "text/plain": [
       "(148,)"
      ]
     },
     "execution_count": 20,
     "metadata": {},
     "output_type": "execute_result"
    }
   ],
   "source": [
    "d_error_batches_array = np.array(d_error_batches)\n",
    "d_error_batches_array.shape"
   ]
  },
  {
   "cell_type": "code",
   "execution_count": 21,
   "metadata": {},
   "outputs": [
    {
     "data": {
      "text/plain": [
       "(61, 600)"
      ]
     },
     "execution_count": 21,
     "metadata": {},
     "output_type": "execute_result"
    }
   ],
   "source": [
    "d_error_epochs_array = np.array(d_error_epochs)\n",
    "d_error_epochs_array.shape"
   ]
  },
  {
   "cell_type": "code",
   "execution_count": 22,
   "metadata": {},
   "outputs": [
    {
     "data": {
      "text/plain": [
       "(148,)"
      ]
     },
     "execution_count": 22,
     "metadata": {},
     "output_type": "execute_result"
    }
   ],
   "source": [
    "g_error_batches_array = np.array(g_error_batches)\n",
    "g_error_batches_array.shape"
   ]
  },
  {
   "cell_type": "code",
   "execution_count": 23,
   "metadata": {},
   "outputs": [
    {
     "data": {
      "text/plain": [
       "(61, 600)"
      ]
     },
     "execution_count": 23,
     "metadata": {},
     "output_type": "execute_result"
    }
   ],
   "source": [
    "g_error_epochs_array = np.array(g_error_epochs)\n",
    "g_error_epochs_array.shape"
   ]
  },
  {
   "cell_type": "code",
   "execution_count": 24,
   "metadata": {},
   "outputs": [
    {
     "data": {
      "text/plain": [
       "(61, 600)"
      ]
     },
     "execution_count": 24,
     "metadata": {},
     "output_type": "execute_result"
    }
   ],
   "source": [
    "g_error_epochs_array = np.array(g_error_epochs)\n",
    "g_error_epochs_array.shape"
   ]
  },
  {
   "cell_type": "code",
   "execution_count": 25,
   "metadata": {},
   "outputs": [
    {
     "data": {
      "text/plain": [
       "(61, 600, 100, 1)"
      ]
     },
     "execution_count": 25,
     "metadata": {},
     "output_type": "execute_result"
    }
   ],
   "source": [
    "d_pred_real_epochs_array = np.array(d_pred_real_epochs)\n",
    "d_pred_real_epochs_array.shape"
   ]
  },
  {
   "cell_type": "code",
   "execution_count": 26,
   "metadata": {},
   "outputs": [
    {
     "ename": "ValueError",
     "evalue": "cannot reshape array of size 3660000 into shape (200,600,100)",
     "output_type": "error",
     "traceback": [
      "\u001b[0;31m---------------------------------------------------------------------------\u001b[0m",
      "\u001b[0;31mValueError\u001b[0m                                Traceback (most recent call last)",
      "\u001b[0;32m<ipython-input-26-cd3fc3c63feb>\u001b[0m in \u001b[0;36m<module>\u001b[0;34m\u001b[0m\n\u001b[0;32m----> 1\u001b[0;31m \u001b[0mnew_d_pred_real_epochs_array\u001b[0m \u001b[0;34m=\u001b[0m \u001b[0md_pred_real_epochs_array\u001b[0m\u001b[0;34m.\u001b[0m\u001b[0mreshape\u001b[0m\u001b[0;34m(\u001b[0m\u001b[0;34m(\u001b[0m\u001b[0;36m200\u001b[0m\u001b[0;34m,\u001b[0m \u001b[0;36m600\u001b[0m\u001b[0;34m,\u001b[0m \u001b[0;36m100\u001b[0m\u001b[0;34m)\u001b[0m\u001b[0;34m)\u001b[0m\u001b[0;34m\u001b[0m\u001b[0m\n\u001b[0m\u001b[1;32m      2\u001b[0m \u001b[0mnew_d_pred_fake_epochs_array\u001b[0m \u001b[0;34m=\u001b[0m \u001b[0md_pred_fake_epochs_array\u001b[0m\u001b[0;34m.\u001b[0m\u001b[0mreshape\u001b[0m\u001b[0;34m(\u001b[0m\u001b[0;34m(\u001b[0m\u001b[0;36m200\u001b[0m\u001b[0;34m,\u001b[0m \u001b[0;36m600\u001b[0m\u001b[0;34m,\u001b[0m \u001b[0;36m100\u001b[0m\u001b[0;34m)\u001b[0m\u001b[0;34m)\u001b[0m\u001b[0;34m\u001b[0m\u001b[0m\n\u001b[1;32m      3\u001b[0m \u001b[0;34m\u001b[0m\u001b[0m\n\u001b[1;32m      4\u001b[0m \u001b[0mprob_real\u001b[0m \u001b[0;34m=\u001b[0m \u001b[0;34m[\u001b[0m\u001b[0;34m]\u001b[0m\u001b[0;34m\u001b[0m\u001b[0m\n\u001b[1;32m      5\u001b[0m \u001b[0;32mfor\u001b[0m \u001b[0mi\u001b[0m \u001b[0;32min\u001b[0m \u001b[0mnew_d_pred_real_epochs_array\u001b[0m\u001b[0;34m:\u001b[0m\u001b[0;34m\u001b[0m\u001b[0m\n",
      "\u001b[0;31mValueError\u001b[0m: cannot reshape array of size 3660000 into shape (200,600,100)"
     ]
    }
   ],
   "source": [
    "new_d_pred_real_epochs_array = d_pred_real_epochs_array.reshape((200, 600, 100))\n",
    "new_d_pred_fake_epochs_array = d_pred_fake_epochs_array.reshape((200, 600, 100))\n",
    "\n",
    "prob_real = []\n",
    "for i in new_d_pred_real_epochs_array:\n",
    "    tmpReal = []\n",
    "    for j in i:\n",
    "        tmpReal.append(j[0])\n",
    "    prob_real.append(np.mean(tmpReal))\n",
    "prob_real = np.array(prob_real)\n",
    "\n",
    "prob_fake = []\n",
    "for i in new_d_pred_fake_epochs_array:\n",
    "    tmpFake = []\n",
    "    for j in i:\n",
    "        tmpFake.append(j[0])\n",
    "    prob_fake.append(np.mean(tmpFake))\n",
    "prob_fake = np.array(prob_fake)"
   ]
  },
  {
   "cell_type": "code",
   "execution_count": null,
   "metadata": {},
   "outputs": [],
   "source": [
    "plt.figure(figsize=(10,5))\n",
    "plt.plot(np.linspace(prob_real.shape[0] + ((N_RUN-2) * num_epochs), prob_real.shape[0] + ((N_RUN-1) * num_epochs) - 1,prob_real.shape[0]), prob_real, LineWidth=3, label='real')\n",
    "plt.plot(np.linspace(prob_fake.shape[0] + ((N_RUN-2) * num_epochs), prob_fake.shape[0] + ((N_RUN-1) * num_epochs) - 1,prob_fake.shape[0]), prob_fake, LineWidth=3, label='fake')\n",
    "plt.xlabel('Epoch')\n",
    "plt.ylabel('Probability')\n",
    "#plt.xlim(200, 400)\n",
    "#plt.ylim(0,1)\n",
    "#plt.xticks([200, 250, 300, 350, 400])\n",
    "#plt.yticks([0, 0.25, 0.5, 0.75, 1])\n",
    "plt.grid(True)\n",
    "plt.legend()\n",
    "plt.savefig('dcgan_uncertainty_' + str(N_RUN * 200) + '.pdf', format='pdf', dpi=300, bbox_inches='tight')\n",
    "plt.show()"
   ]
  },
  {
   "cell_type": "code",
   "execution_count": null,
   "metadata": {},
   "outputs": [],
   "source": [
    "d_pred_fake_epochs_array = np.array(d_pred_fake_epochs)\n",
    "d_pred_fake_epochs_array.shape"
   ]
  },
  {
   "cell_type": "code",
   "execution_count": null,
   "metadata": {},
   "outputs": [],
   "source": [
    "# d_pred_real_array = np.array(d_pred_real.tolist())\n",
    "# d_pred_real_array = d_pred_real_array.reshape(d_pred_real_array.shape[0])\n",
    "\n",
    "# d_pred_fake_array = np.array(d_pred_fake.tolist())\n",
    "# d_pred_fake_array = d_pred_fake_array.reshape(d_pred_fake_array.shape[0])"
   ]
  },
  {
   "cell_type": "code",
   "execution_count": null,
   "metadata": {},
   "outputs": [],
   "source": [
    "csvfile = \"dcgan_d_error_\" + str(N_RUN * num_epochs) + \".csv\"\n",
    "with open(csvfile, \"w\") as output:\n",
    "    writer = csv.writer(output, lineterminator='\\n')\n",
    "    writer.writerows(d_error_epochs)\n",
    "    \n",
    "csvfile = \"dcgan_g_error_\" + str(N_RUN * num_epochs) + \".csv\"\n",
    "with open(csvfile, \"w\") as output:\n",
    "    writer = csv.writer(output, lineterminator='\\n')\n",
    "    writer.writerows(g_error_epochs)\n",
    "    \n",
    "csvfile = \"dcgan_d_pred_real_\" + str(N_RUN * num_epochs) + \".csv\"\n",
    "with open(csvfile, \"w\") as output:\n",
    "    writer = csv.writer(output, lineterminator='\\n')\n",
    "    for val in d_pred_real:\n",
    "        writer.writerow([val])\n",
    "        \n",
    "csvfile = \"dcgan_d_pred_fake_\" + str(N_RUN * num_epochs) + \".csv\"\n",
    "with open(csvfile, \"w\") as output:\n",
    "    writer = csv.writer(output, lineterminator='\\n')\n",
    "    for val in d_pred_fake:\n",
    "        writer.writerow([val])"
   ]
  },
  {
   "cell_type": "code",
   "execution_count": null,
   "metadata": {},
   "outputs": [],
   "source": [
    "d_error_epochs_array = np.array(d_error_epochs)\n",
    "new_d_error_epochs_array = np.array([np.mean(d_error_epochs_array[i,:]) for i in range(d_error_epochs_array.shape[0])])\n",
    "\n",
    "g_error_epochs_array = np.array(g_error_epochs)\n",
    "new_g_error_epochs_array = np.array([np.mean(g_error_epochs_array[i,:]) for i in range(g_error_epochs_array.shape[0])])"
   ]
  },
  {
   "cell_type": "code",
   "execution_count": null,
   "metadata": {},
   "outputs": [],
   "source": [
    "plt.figure(figsize=(8,5))\n",
    "plt.plot(range(d_error_epochs_array.shape[0]), new_d_error_epochs_array, LineWidth=3, label='discriminator')\n",
    "plt.plot(range(g_error_epochs_array.shape[0]), new_g_error_epochs_array, LineWidth=3, label='generator')\n",
    "plt.xlabel('Epoch')\n",
    "plt.ylabel('Loss')\n",
    "#plt.xlim(0, 200)\n",
    "#plt.ylim(0, 4)\n",
    "plt.grid(True)\n",
    "plt.legend()\n",
    "plt.savefig('dcgan_loss_' + str(N_RUN * num_epochs) + '.pdf', format='pdf', dpi=300, bbox_inches='tight')\n",
    "plt.show()"
   ]
  },
  {
   "cell_type": "code",
   "execution_count": null,
   "metadata": {},
   "outputs": [],
   "source": [
    "# plt.figure(figsize=(8,5))\n",
    "# plt.plot(range(d_pred_real_array.shape[0]), d_pred_real_array, LineWidth=3, label='real')\n",
    "# plt.plot(range(d_pred_fake_array.shape[0]), d_pred_fake_array, LineWidth=3, label='fake')\n",
    "# plt.xlabel('Epoch')\n",
    "# plt.ylabel('Uncertainty')\n",
    "# plt.xlim(0,200)\n",
    "# plt.grid(True)\n",
    "# plt.legend()\n",
    "# plt.savefig('dcgan_uncertainty_' + str(N_RUN * num_epochs) + '.pdf', format='pdf', dpi=300, bbox_inches='tight')\n",
    "# plt.show()"
   ]
  },
  {
   "cell_type": "code",
   "execution_count": null,
   "metadata": {},
   "outputs": [],
   "source": [
    "new_timing = []\n",
    "new_timing_mean = []\n",
    "new_timing_sum = []\n",
    "\n",
    "for i in range(int(len(timing)/6)):\n",
    "    new_timing.append(timing[i:i+6])\n",
    "    new_timing_mean.append(np.mean(timing[i:i+6]))\n",
    "    new_timing_sum.append(np.sum(timing[i:i+6]))\n",
    "    \n",
    "new_timing = np.array(new_timing)\n",
    "new_timing_mean = np.array(new_timing_mean)\n",
    "new_timing_sum = np.array(new_timing_sum)"
   ]
  },
  {
   "cell_type": "code",
   "execution_count": null,
   "metadata": {},
   "outputs": [],
   "source": [
    "plt.figure(figsize=(8,5))\n",
    "plt.plot(range(new_timing_mean.shape[0]), new_timing_mean, LineWidth=3, label='Mean Epoch Time')\n",
    "plt.plot(range(new_timing_sum.shape[0]), new_timing_sum, LineWidth=3, label='Total Epoch Time' )\n",
    "plt.legend()\n",
    "plt.xlabel('Epoch')\n",
    "plt.ylabel('Processing Time [seconds]')\n",
    "#plt.xlim(0,200)\n",
    "#plt.ylim(0, 12000)\n",
    "#plt.xticks([0, 50, 100, 150, 200])\n",
    "#plt.yticks([0, 4000, 8000, 12000])\n",
    "plt.grid(True)\n",
    "plt.savefig('dcgan_timing_' + str(N_RUN * num_epochs) + '.pdf', format='pdf', dpi=300, bbox_inches='tight')\n",
    "plt.show()"
   ]
  },
  {
   "cell_type": "code",
   "execution_count": null,
   "metadata": {},
   "outputs": [],
   "source": [
    "T = [0]\n",
    "T_tmp = [new_timing_mean[i+1] - new_timing_mean[i] for i in range(new_timing_mean.shape[0]-1)]\n",
    "T.extend(T_tmp)\n",
    "T = np.array(T)\n",
    "\n",
    "csvfile = \"T_\" + str(N_RUN * num_epochs) + \".csv\"\n",
    "with open(csvfile, \"w\") as output:\n",
    "    writer = csv.writer(output, lineterminator='\\n')\n",
    "    for val in T:\n",
    "        writer.writerow([val])"
   ]
  },
  {
   "cell_type": "code",
   "execution_count": null,
   "metadata": {},
   "outputs": [],
   "source": [
    "plt.figure(figsize=(8,5))\n",
    "plt.plot(range(T.shape[0]), T, LineWidth=3, label='Processing Time')\n",
    "plt.hlines(np.mean(T), xmin=0, xmax=200, LineWidth=3, color='r', label='Mean (%.2f s)'%np.mean(T))\n",
    "plt.legend()\n",
    "plt.xlabel('Epoch')\n",
    "plt.ylabel('Processing Time [s]')\n",
    "#plt.xlim(0,200)\n",
    "#plt.ylim(0, 12)\n",
    "#plt.xticks([0, 50, 100, 150, 200])\n",
    "#plt.yticks([0, 2, 4, 6, 8, 10, 12])\n",
    "plt.grid(True)\n",
    "plt.savefig('dcgan_T_' + str(N_RUN * num_epochs) + '.pdf', format='pdf', dpi=300, bbox_inches='tight')\n",
    "plt.show()"
   ]
  }
 ],
 "metadata": {
  "kernelspec": {
   "display_name": "Python 3",
   "language": "python",
   "name": "python3"
  },
  "language_info": {
   "codemirror_mode": {
    "name": "ipython",
    "version": 3
   },
   "file_extension": ".py",
   "mimetype": "text/x-python",
   "name": "python",
   "nbconvert_exporter": "python",
   "pygments_lexer": "ipython3",
   "version": "3.6.6"
  }
 },
 "nbformat": 4,
 "nbformat_minor": 2
}
